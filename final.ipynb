{
 "cells": [
  {
   "cell_type": "code",
   "execution_count": 1,
   "id": "ba1e118c-35e3-4b7c-a661-078ce781b119",
   "metadata": {},
   "outputs": [],
   "source": [
    "import numpy as np\n",
    "import pandas as pd\n",
    "from functions import *"
   ]
  },
  {
   "cell_type": "code",
   "execution_count": 2,
   "id": "c8cc0391-60ce-4a77-9947-622e296fccc5",
   "metadata": {},
   "outputs": [],
   "source": [
    "data = pd.read_excel('data_final.xlsx')"
   ]
  },
  {
   "cell_type": "code",
   "execution_count": 3,
   "id": "f22b245e-c68d-41c2-abb8-d9b58018c752",
   "metadata": {},
   "outputs": [],
   "source": [
    "data = data.drop(columns = ['Unnamed: 84', 'Unnamed: 85', 'Q5', 'Q6', 'Q7', 'Q8', 'Q9', 'Q10'])"
   ]
  },
  {
   "cell_type": "code",
   "execution_count": 4,
   "id": "6c57138e-3951-4152-b76d-1236647e8281",
   "metadata": {},
   "outputs": [],
   "source": [
    "data['Dummy'].replace(['A', 'B'], [0, 1], inplace=True)\n",
    "data['S0a'].replace([\"A - Save myself\", \"B - Crash and do not save myself (I sacrifice myself)\", \"C - I don't know what to choose, the car will continue its original plan (going straight)\", \"D - I don't know what to choose, I let the car take a random decision\"], [0, 1, 2, 3], inplace=True)\n",
    "data['S0b'].replace([\"A - Save myself\", \"B - Crash and do not save myself (I sacrifice myself)\", \"C - I don't know what to choose, the car will continue its original plan (going straight)\", \"D - I don't know what to choose, I let the car take a random decision\"], [0, 1, 2, 3], inplace=True)\n",
    "data['S0c'].replace([\"A - Save myself\", \"B - Crash and do not save myself (I sacrifice myself)\", \"C - I don't know what to choose, the car will continue its original plan (going straight)\", \"D - I don't know what to choose, I let the car take a random decision\"], [0, 1, 2, 3], inplace=True)\n",
    "data['S2a'].replace([\"A - Save myself\", \"B - Crash and do not save myself (I sacrifice myself)\", \"C - I don't know what to choose, the car will continue its original plan (going straight)\", \"D - I don't know what to choose, I let the car take a random decision\"], [0, 1, 2, 3], inplace=True)\n",
    "data['S2b'].replace([\"A - Save myself\", \"B - Crash and do not save myself (I sacrifice myself)\", \"C - I don't know what to choose, the car will continue its original plan (going straight)\", \"D - I don't know what to choose, I let the car take a random decision\"], [0, 1, 2, 3], inplace=True)\n",
    "data['S3a'].replace([\"A - Save myself\", \"B - Crash and do not save myself (I sacrifice myself)\", \"C - I don't know what to choose, the car will continue its original plan (going straight)\", \"D - I don't know what to choose, I let the car take a random decision\"], [0, 1, 2, 3], inplace=True)\n",
    "data['S3b'].replace([\"A - Save myself\", \"B - Crash and do not save myself (I sacrifice myself)\", \"C - I don't know what to choose, the car will continue its original plan (going straight)\", \"D - I don't know what to choose, I let the car take a random decision\"], [0, 1, 2, 3], inplace=True)\n",
    "data['S4a'].replace([\"A - Keep going\", \"B - Change plan\", \"C - I don't know what to choose, the car will continue its original plan (going straight)\", \"D - I don't know what to choose, I let the car take a random decision\"], [0, 1, 2, 3], inplace=True)\n",
    "data['S4b'].replace([\"A - Keep going\", \"B - Change plan\", \"C - I don't know what to choose, the car will continue its original plan (going straight)\", \"D - I don't know what to choose, I let the car take a random decision\"], [0, 1, 2, 3], inplace=True)\n",
    "data['S5a'].replace([\"A - Keep going\", \"B - Change plan\", \"C - I don't know what to choose, the car will continue its original plan (going straight)\", \"D - I don't know what to choose, I let the car take a random decision\"], [0, 1, 2, 3], inplace=True)\n",
    "data['S5b'].replace([\"A - Keep going\", \"B - Change plan\", \"C - I don't know what to choose, the car will continue its original plan (going straight)\", \"D - I don't know what to choose, I let the car take a random decision\"], [0, 1, 2, 3], inplace=True)\n",
    "data['S6a'].replace([\"A - Guarantee the protection of the passengers\", \"B - Do not necessarily guarantee the protection of the passengers\", \"C - I don't know what to choose, the car will continue its original plan (going straight)\", \"D - I don't know what to choose, I let the car take a random decision\"], [0, 1, 2, 3], inplace=True)\n",
    "data['S6b'].replace([\"A - Guarantee the protection of the PASSENGER\", \"B - Do not necessarily guarantee the protection of the PASSENGER\", \"C - I don't know what to choose, the car will continue its original plan (going straight)\", \"D - I don't know what to choose, I let the car take a random decision\"], [0, 1, 2, 3], inplace=True)\n",
    "data['S7a'].replace([\"A - Guarantee the protection of the PASSENGER\", \"B - Do not necessarily guarantee the protection of the PASSENGER\", \"C - I don't know what to choose, the car will continue its original plan (going straight)\", \"D - I don't know what to choose, I let the car take a random decision\"], [0, 1, 2, 3], inplace=True)\n",
    "data['S7b'].replace([\"A - Guarantee the protection of the PASSENGER\", \"B - Do not necessarily guarantee the protection of the PASSENGER\", \"C - I don't know what to choose, the car will continue its original plan (going straight)\", \"D - I don't know what to choose, I let the car take a random decision\"], [0, 1, 2, 3], inplace=True)\n",
    "data['S8a'].replace([\"A - Guarantee the protection of the PASSENGER\", \"B - Do not necessarily guarantee the protection of the PASSENGER\", \"C - I don't know what to choose, the car will continue its original plan (going straight)\", \"D - I don't know what to choose, I let the car take a random decision\"], [0, 1, 2, 3], inplace=True)\n",
    "data['S8b'].replace([\"A - Guarantee the protection of the PASSENGER\", \"B - Do not necessarily guarantee the protection of the PASSENGER\", \"C - I don't know what to choose, the car will continue its original plan (going straight)\", \"D - I don't know what to choose, I let the car take a random decision\"], [0, 1, 2, 3], inplace=True)\n",
    "data['S9a'].replace([\"A - Go straight ahead\", \"B - Swerve\", \"C - I don't know what to choose, the car will continue its original plan (going straight)\", \"D - I don't know what to choose, I let the car take a random decision\"], [0, 1, 2, 3], inplace=True)\n",
    "data['S9b'].replace([\"A - Go straight ahead\", \"B - Swerve\", \"C - I don't know what to choose, the car will continue its original plan (going straight)\", \"D - I don't know what to choose, I let the car take a random decision\"], [0, 1, 2, 3], inplace=True)\n",
    "data['S10a'].replace([\"A - Go straight ahead\", \"B - Swerve\", \"C - I don't know what to choose, the car will continue its original plan (going straight)\", \"D - I don't know what to choose, I let the car take a random decision\"], [0, 1, 2, 3], inplace=True)\n",
    "data['S10b'].replace([\"A - Go straight ahead\", \"B - Swerve\", \"C - I don't know what to choose, the car will continue its original plan (going straight)\", \"D - I don't know what to choose, I let the car take a random decision\"], [0, 1, 2, 3], inplace=True)\n",
    "data['S11a'].replace([\"A - Go straight ahead\", \"B - Swerve\", \"C - I don't know what to choose, the car will continue its original plan (going straight)\", \"D - I don't know what to choose, I let the car take a random decision\"], [0, 1, 2, 3], inplace=True)\n",
    "\n",
    "data['CL1a'].replace([\">\", \"=\", \"<\"], [0, 1, 2], inplace=True)\n",
    "data['CL1b'].replace([\">\", \"=\", \"<\"], [0, 1, 2], inplace=True)\n",
    "data['CL1c'].replace([\">\", \"=\", \"<\"], [0, 1, 2], inplace=True)\n",
    "data['CL1d'].replace([\">\", \"=\", \"<\"], [0, 1, 2], inplace=True)\n",
    "data['CL1e'].replace([\">\", \"=\", \"<\"], [0, 1, 2], inplace=True)\n",
    "data['CL1f'].replace([\">\", \"=\", \"<\"], [0, 1, 2], inplace=True)\n",
    "data['CL1g'].replace([\">\", \"=\", \"<\"], [0, 1, 2], inplace=True)\n",
    "data['CL1h'].replace([\">\", \"=\", \"<\"], [0, 1, 2], inplace=True)\n",
    "\n",
    "data['CL2a'].replace([\">\", \"=\", \"<\"], [0, 1, 2], inplace=True)\n",
    "data['CL2b'].replace([\">\", \"=\", \"<\"], [0, 1, 2], inplace=True)\n",
    "data['CL2c'].replace([\">\", \"=\", \"<\"], [0, 1, 2], inplace=True)\n",
    "data['CL2d'].replace([\">\", \"=\", \"<\"], [0, 1, 2], inplace=True)\n",
    "data['CL2e'].replace([\">\", \"=\", \"<\"], [0, 1, 2], inplace=True)\n",
    "data['CL2f'].replace([\">\", \"=\", \"<\"], [0, 1, 2], inplace=True)\n",
    "data['CL2g'].replace([\">\", \"=\", \"<\"], [0, 1, 2], inplace=True)\n",
    "data['CL2h'].replace([\">\", \"=\", \"<\"], [0, 1, 2], inplace=True)\n",
    "\n",
    "data['CL3a'].replace([\">\", \"=\", \"<\"], [0, 1, 2], inplace=True)\n",
    "data['CL3b'].replace([\">\", \"=\", \"<\"], [0, 1, 2], inplace=True)\n",
    "data['CL3c'].replace([\">\", \"=\", \"<\"], [0, 1, 2], inplace=True)\n",
    "data['CL3d'].replace([\">\", \"=\", \"<\"], [0, 1, 2], inplace=True)\n",
    "data['CL3e'].replace([\">\", \"=\", \"<\"], [0, 1, 2], inplace=True)\n",
    "data['CL3f'].replace([\">\", \"=\", \"<\"], [0, 1, 2], inplace=True)\n",
    "data['CL3g'].replace([\">\", \"=\", \"<\"], [0, 1, 2], inplace=True)\n",
    "data['CL3h'].replace([\">\", \"=\", \"<\"], [0, 1, 2], inplace=True)\n",
    "data['CL3i'].replace([\">\", \"=\", \"<\"], [0, 1, 2], inplace=True)\n",
    "\n",
    "data['CL4a'].replace([\">\", \"=\", \"<\"], [0, 1, 2], inplace=True)\n",
    "data['CL4b'].replace([\">\", \"=\", \"<\"], [0, 1, 2], inplace=True)\n",
    "data['CL4c'].replace([\">\", \"=\", \"<\"], [0, 1, 2], inplace=True)\n",
    "data['CL4d'].replace([\">\", \"=\", \"<\"], [0, 1, 2], inplace=True)\n",
    "data['CL4e'].replace([\">\", \"=\", \"<\"], [0, 1, 2], inplace=True)\n",
    "data['CL4f'].replace([\">\", \"=\", \"<\"], [0, 1, 2], inplace=True)\n",
    "data['CL4g'].replace([\">\", \"=\", \"<\"], [0, 1, 2], inplace=True)\n",
    "data['CL4h'].replace([\">\", \"=\", \"<\"], [0, 1, 2], inplace=True)\n",
    "data['CL4i'].replace([\">\", \"=\", \"<\"], [0, 1, 2], inplace=True)\n",
    "data['CL4j'].replace([\">\", \"=\", \"<\"], [0, 1, 2], inplace=True)\n",
    "\n",
    "data['CL5a'].replace([\">\", \"=\", \"<\"], [0, 1, 2], inplace=True)\n",
    "data['CL5b'].replace([\">\", \"=\", \"<\"], [0, 1, 2], inplace=True)\n",
    "data['CL5c'].replace([\">\", \"=\", \"<\"], [0, 1, 2], inplace=True)\n",
    "\n",
    "data['S12'].replace([\"A\", \"B\", \"C - I don't know what to choose, the car will continue its original plan (going straight)\", \"D - I don't know what to choose, I let the car take a random decision\"], [0, 1, 2, 3], inplace=True)\n",
    "data['S13'].replace([\"A\", \"B\", \"C - I don't know what to choose, the car will continue its original plan (going straight)\", \"D - I don't know what to choose, I let the car take a random decision\"], [0, 1, 2, 3], inplace=True)\n",
    "data['S14'].replace([\"A\", \"B\", \"C - I don't know what to choose, the car will continue its original plan (going straight)\", \"D - I don't know what to choose, I let the car take a random decision\"], [0, 1, 2, 3], inplace=True)\n",
    "data['S15'].replace([\"A\", \"B\", \"C - I don't know what to choose, the car will continue its original plan (going straight)\", \"D - I don't know what to choose, I let the car take a random decision\"], [0, 1, 2, 3], inplace=True)\n",
    "data['S16'].replace([\"A\", \"B\", \"C - I don't know what to choose, the car will continue its original plan (going straight)\", \"D - I don't know what to choose, I let the car take a random decision\"], [0, 1, 2, 3], inplace=True)\n",
    "data['S17'].replace([\"A\", \"B\", \"C - I don't know what to choose, the car will continue its original plan (going straight)\", \"D - I don't know what to choose, I let the car take a random decision\"], [0, 1, 2, 3], inplace=True)\n",
    "data['S18'].replace([\"A\", \"B\", \"C - I don't know what to choose, the car will continue its original plan (going straight)\", \"D - I don't know what to choose, I let the car take a random decision\"], [0, 1, 2, 3], inplace=True)\n",
    "data['S19'].replace([\"A\", \"B\", \"C - I don't know what to choose, the car will continue its original plan (going straight)\", \"D - I don't know what to choose, I let the car take a random decision\"], [0, 1, 2, 3], inplace=True)\n",
    "data['S20'].replace([\"A\", \"B\", \"C - I don't know what to choose, the car will continue its original plan (going straight)\", \"D - I don't know what to choose, I let the car take a random decision\"], [0, 1, 2, 3], inplace=True)\n",
    "data['S21'].replace([\"A\", \"B\", \"C - I don't know what to choose, the car will continue its original plan (going straight)\", \"D - I don't know what to choose, I let the car take a random decision\"], [0, 1, 2, 3], inplace=True)\n",
    "data['S22'].replace([\"A\", \"B\", \"C - I don't know what to choose, the car will continue its original plan (going straight)\", \"D - I don't know what to choose, I let the car take a random decision\"], [0, 1, 2, 3], inplace=True)\n",
    "data['Sadd1'].replace([\"A\", \"B\", \"C - I don't know what to choose, the car will continue its original plan (going straight)\", \"D - I don't know what to choose, I let the car take a random decision\"], [0, 1, 2, 3], inplace=True)\n",
    "data['Sadd2'].replace([\"A\", \"B\", \"C - I don't know what to choose, the car will continue its original plan (going straight)\", \"D - I don't know what to choose, I let the car take a random decision\"], [0, 1, 2, 3], inplace=True)\n",
    "\n",
    "data['Q1'].replace([\"Yes\", \"No\"], [1, 0], inplace=True)\n",
    "data['Q2'].replace([\"Use an adaptative software\", \"Use the generic one\"], [1, 0], inplace=True)\n",
    "data['Q3'].replace([\"No\", \"City\", \"Highway\", \"Both\"], [0, 1, 2, 3], inplace=True)\n",
    "data['Q4'].replace([\"Yes\", \"No\"], [1, 0], inplace=True)"
   ]
  },
  {
   "cell_type": "code",
   "execution_count": 5,
   "id": "5a8008d1-3cb6-48dd-8075-d5ec2b188f3c",
   "metadata": {},
   "outputs": [
    {
     "data": {
      "text/plain": [
       "(45, 38)"
      ]
     },
     "execution_count": 5,
     "metadata": {},
     "output_type": "execute_result"
    }
   ],
   "source": [
    "data0 = data.iloc[:, 23:61]\n",
    "data0.shape"
   ]
  },
  {
   "cell_type": "markdown",
   "id": "6843e2fe-1460-4be3-b5ce-e247ec30161c",
   "metadata": {},
   "source": [
    "## Removing outliers"
   ]
  },
  {
   "cell_type": "code",
   "execution_count": 6,
   "id": "e2460bd9-fbc8-4184-b5ab-d748e0da3f07",
   "metadata": {},
   "outputs": [
    {
     "name": "stdout",
     "output_type": "stream",
     "text": [
      "Branch can still split\n",
      "Feature max : CL2f value 0.0 with percentage : 93.33333333333333 %\n",
      "data_max shape : (42, 37)\n",
      "data_min shape : (3, 37)\n"
     ]
    }
   ],
   "source": [
    "most_frequent = frequency(data0)\n",
    "percentages = perc(data0, most_frequent)\n",
    "data1, data2 = makeTree(data0, percentages, most_frequent)"
   ]
  },
  {
   "cell_type": "code",
   "execution_count": 7,
   "id": "13c61508-ee1a-450d-aca3-4da982ca1bed",
   "metadata": {},
   "outputs": [
    {
     "data": {
      "text/html": [
       "<div>\n",
       "<style scoped>\n",
       "    .dataframe tbody tr th:only-of-type {\n",
       "        vertical-align: middle;\n",
       "    }\n",
       "\n",
       "    .dataframe tbody tr th {\n",
       "        vertical-align: top;\n",
       "    }\n",
       "\n",
       "    .dataframe thead th {\n",
       "        text-align: right;\n",
       "    }\n",
       "</style>\n",
       "<table border=\"1\" class=\"dataframe\">\n",
       "  <thead>\n",
       "    <tr style=\"text-align: right;\">\n",
       "      <th></th>\n",
       "      <th>CL1a</th>\n",
       "      <th>CL1b</th>\n",
       "      <th>CL1c</th>\n",
       "      <th>CL1d</th>\n",
       "      <th>CL1e</th>\n",
       "      <th>CL1f</th>\n",
       "      <th>CL1g</th>\n",
       "      <th>CL1h</th>\n",
       "      <th>CL2a</th>\n",
       "      <th>CL2b</th>\n",
       "      <th>...</th>\n",
       "      <th>CL4d</th>\n",
       "      <th>CL4e</th>\n",
       "      <th>CL4f</th>\n",
       "      <th>CL4g</th>\n",
       "      <th>CL4h</th>\n",
       "      <th>CL4i</th>\n",
       "      <th>CL4j</th>\n",
       "      <th>CL5a</th>\n",
       "      <th>CL5b</th>\n",
       "      <th>CL5c</th>\n",
       "    </tr>\n",
       "  </thead>\n",
       "  <tbody>\n",
       "    <tr>\n",
       "      <th>22</th>\n",
       "      <td>0.0</td>\n",
       "      <td>2.0</td>\n",
       "      <td>1.0</td>\n",
       "      <td>1.0</td>\n",
       "      <td>2.0</td>\n",
       "      <td>0.0</td>\n",
       "      <td>0.0</td>\n",
       "      <td>1.0</td>\n",
       "      <td>2.0</td>\n",
       "      <td>1.0</td>\n",
       "      <td>...</td>\n",
       "      <td>2.0</td>\n",
       "      <td>2.0</td>\n",
       "      <td>0.0</td>\n",
       "      <td>1.0</td>\n",
       "      <td>1.0</td>\n",
       "      <td>1.0</td>\n",
       "      <td>1.0</td>\n",
       "      <td>0.0</td>\n",
       "      <td>1.0</td>\n",
       "      <td>1.0</td>\n",
       "    </tr>\n",
       "    <tr>\n",
       "      <th>32</th>\n",
       "      <td>2.0</td>\n",
       "      <td>2.0</td>\n",
       "      <td>0.0</td>\n",
       "      <td>0.0</td>\n",
       "      <td>0.0</td>\n",
       "      <td>0.0</td>\n",
       "      <td>0.0</td>\n",
       "      <td>0.0</td>\n",
       "      <td>0.0</td>\n",
       "      <td>0.0</td>\n",
       "      <td>...</td>\n",
       "      <td>0.0</td>\n",
       "      <td>0.0</td>\n",
       "      <td>0.0</td>\n",
       "      <td>0.0</td>\n",
       "      <td>0.0</td>\n",
       "      <td>2.0</td>\n",
       "      <td>2.0</td>\n",
       "      <td>0.0</td>\n",
       "      <td>0.0</td>\n",
       "      <td>1.0</td>\n",
       "    </tr>\n",
       "    <tr>\n",
       "      <th>43</th>\n",
       "      <td>2.0</td>\n",
       "      <td>2.0</td>\n",
       "      <td>0.0</td>\n",
       "      <td>0.0</td>\n",
       "      <td>1.0</td>\n",
       "      <td>0.0</td>\n",
       "      <td>0.0</td>\n",
       "      <td>1.0</td>\n",
       "      <td>0.0</td>\n",
       "      <td>2.0</td>\n",
       "      <td>...</td>\n",
       "      <td>0.0</td>\n",
       "      <td>1.0</td>\n",
       "      <td>0.0</td>\n",
       "      <td>0.0</td>\n",
       "      <td>1.0</td>\n",
       "      <td>1.0</td>\n",
       "      <td>2.0</td>\n",
       "      <td>0.0</td>\n",
       "      <td>0.0</td>\n",
       "      <td>1.0</td>\n",
       "    </tr>\n",
       "  </tbody>\n",
       "</table>\n",
       "<p>3 rows × 37 columns</p>\n",
       "</div>"
      ],
      "text/plain": [
       "    CL1a  CL1b  CL1c  CL1d  CL1e  CL1f  CL1g  CL1h  CL2a  CL2b  ...  CL4d  \\\n",
       "22   0.0   2.0   1.0   1.0   2.0   0.0   0.0   1.0   2.0   1.0  ...   2.0   \n",
       "32   2.0   2.0   0.0   0.0   0.0   0.0   0.0   0.0   0.0   0.0  ...   0.0   \n",
       "43   2.0   2.0   0.0   0.0   1.0   0.0   0.0   1.0   0.0   2.0  ...   0.0   \n",
       "\n",
       "    CL4e  CL4f  CL4g  CL4h  CL4i  CL4j  CL5a  CL5b  CL5c  \n",
       "22   2.0   0.0   1.0   1.0   1.0   1.0   0.0   1.0   1.0  \n",
       "32   0.0   0.0   0.0   0.0   2.0   2.0   0.0   0.0   1.0  \n",
       "43   1.0   0.0   0.0   1.0   1.0   2.0   0.0   0.0   1.0  \n",
       "\n",
       "[3 rows x 37 columns]"
      ]
     },
     "execution_count": 7,
     "metadata": {},
     "output_type": "execute_result"
    }
   ],
   "source": [
    "data2"
   ]
  },
  {
   "cell_type": "markdown",
   "id": "46b32283-7c63-4608-bf9b-9bd1a878dcd9",
   "metadata": {},
   "source": [
    "$CL2f = 0$ : someone you know legal > 1 illegal adult."
   ]
  },
  {
   "cell_type": "code",
   "execution_count": 8,
   "id": "cb0916de-84d5-4dc3-a7a4-b390c3881be1",
   "metadata": {},
   "outputs": [
    {
     "name": "stdout",
     "output_type": "stream",
     "text": [
      "Branch can still split\n",
      "Feature max : CL3a value 2.0 with percentage : 92.85714285714286 %\n",
      "data_max shape : (39, 36)\n",
      "data_min shape : (3, 36)\n"
     ]
    }
   ],
   "source": [
    "most_frequent = frequency(data1)\n",
    "percentages = perc(data1, most_frequent)\n",
    "data3, data4 = makeTree(data1, percentages, most_frequent)"
   ]
  },
  {
   "cell_type": "code",
   "execution_count": 9,
   "id": "cf550947-c1c0-4ea5-9041-93bedb865a87",
   "metadata": {},
   "outputs": [
    {
     "data": {
      "text/html": [
       "<div>\n",
       "<style scoped>\n",
       "    .dataframe tbody tr th:only-of-type {\n",
       "        vertical-align: middle;\n",
       "    }\n",
       "\n",
       "    .dataframe tbody tr th {\n",
       "        vertical-align: top;\n",
       "    }\n",
       "\n",
       "    .dataframe thead th {\n",
       "        text-align: right;\n",
       "    }\n",
       "</style>\n",
       "<table border=\"1\" class=\"dataframe\">\n",
       "  <thead>\n",
       "    <tr style=\"text-align: right;\">\n",
       "      <th></th>\n",
       "      <th>CL1a</th>\n",
       "      <th>CL1b</th>\n",
       "      <th>CL1c</th>\n",
       "      <th>CL1d</th>\n",
       "      <th>CL1e</th>\n",
       "      <th>CL1f</th>\n",
       "      <th>CL1g</th>\n",
       "      <th>CL1h</th>\n",
       "      <th>CL2a</th>\n",
       "      <th>CL2b</th>\n",
       "      <th>...</th>\n",
       "      <th>CL4d</th>\n",
       "      <th>CL4e</th>\n",
       "      <th>CL4f</th>\n",
       "      <th>CL4g</th>\n",
       "      <th>CL4h</th>\n",
       "      <th>CL4i</th>\n",
       "      <th>CL4j</th>\n",
       "      <th>CL5a</th>\n",
       "      <th>CL5b</th>\n",
       "      <th>CL5c</th>\n",
       "    </tr>\n",
       "  </thead>\n",
       "  <tbody>\n",
       "    <tr>\n",
       "      <th>3</th>\n",
       "      <td>1.0</td>\n",
       "      <td>2.0</td>\n",
       "      <td>2.0</td>\n",
       "      <td>2.0</td>\n",
       "      <td>2.0</td>\n",
       "      <td>0.0</td>\n",
       "      <td>0.0</td>\n",
       "      <td>1.0</td>\n",
       "      <td>1.0</td>\n",
       "      <td>2.0</td>\n",
       "      <td>...</td>\n",
       "      <td>2.0</td>\n",
       "      <td>2.0</td>\n",
       "      <td>1.0</td>\n",
       "      <td>0.0</td>\n",
       "      <td>0.0</td>\n",
       "      <td>1.0</td>\n",
       "      <td>0.0</td>\n",
       "      <td>1.0</td>\n",
       "      <td>1.0</td>\n",
       "      <td>1.0</td>\n",
       "    </tr>\n",
       "    <tr>\n",
       "      <th>7</th>\n",
       "      <td>1.0</td>\n",
       "      <td>1.0</td>\n",
       "      <td>2.0</td>\n",
       "      <td>2.0</td>\n",
       "      <td>2.0</td>\n",
       "      <td>0.0</td>\n",
       "      <td>1.0</td>\n",
       "      <td>1.0</td>\n",
       "      <td>1.0</td>\n",
       "      <td>1.0</td>\n",
       "      <td>...</td>\n",
       "      <td>2.0</td>\n",
       "      <td>2.0</td>\n",
       "      <td>0.0</td>\n",
       "      <td>1.0</td>\n",
       "      <td>1.0</td>\n",
       "      <td>2.0</td>\n",
       "      <td>1.0</td>\n",
       "      <td>0.0</td>\n",
       "      <td>1.0</td>\n",
       "      <td>1.0</td>\n",
       "    </tr>\n",
       "    <tr>\n",
       "      <th>8</th>\n",
       "      <td>1.0</td>\n",
       "      <td>1.0</td>\n",
       "      <td>2.0</td>\n",
       "      <td>2.0</td>\n",
       "      <td>2.0</td>\n",
       "      <td>0.0</td>\n",
       "      <td>0.0</td>\n",
       "      <td>0.0</td>\n",
       "      <td>1.0</td>\n",
       "      <td>1.0</td>\n",
       "      <td>...</td>\n",
       "      <td>1.0</td>\n",
       "      <td>1.0</td>\n",
       "      <td>1.0</td>\n",
       "      <td>1.0</td>\n",
       "      <td>1.0</td>\n",
       "      <td>1.0</td>\n",
       "      <td>1.0</td>\n",
       "      <td>0.0</td>\n",
       "      <td>0.0</td>\n",
       "      <td>1.0</td>\n",
       "    </tr>\n",
       "  </tbody>\n",
       "</table>\n",
       "<p>3 rows × 36 columns</p>\n",
       "</div>"
      ],
      "text/plain": [
       "   CL1a  CL1b  CL1c  CL1d  CL1e  CL1f  CL1g  CL1h  CL2a  CL2b  ...  CL4d  \\\n",
       "3   1.0   2.0   2.0   2.0   2.0   0.0   0.0   1.0   1.0   2.0  ...   2.0   \n",
       "7   1.0   1.0   2.0   2.0   2.0   0.0   1.0   1.0   1.0   1.0  ...   2.0   \n",
       "8   1.0   1.0   2.0   2.0   2.0   0.0   0.0   0.0   1.0   1.0  ...   1.0   \n",
       "\n",
       "   CL4e  CL4f  CL4g  CL4h  CL4i  CL4j  CL5a  CL5b  CL5c  \n",
       "3   2.0   1.0   0.0   0.0   1.0   0.0   1.0   1.0   1.0  \n",
       "7   2.0   0.0   1.0   1.0   2.0   1.0   0.0   1.0   1.0  \n",
       "8   1.0   1.0   1.0   1.0   1.0   1.0   0.0   0.0   1.0  \n",
       "\n",
       "[3 rows x 36 columns]"
      ]
     },
     "execution_count": 9,
     "metadata": {},
     "output_type": "execute_result"
    }
   ],
   "source": [
    "data4"
   ]
  },
  {
   "cell_type": "markdown",
   "id": "963d2398-484a-4a3e-aa25-7a4af577937a",
   "metadata": {},
   "source": [
    "$CL3a = 2$ : 1 illegal adult < 2 legal adults"
   ]
  },
  {
   "cell_type": "code",
   "execution_count": 10,
   "id": "85fc2058-a93c-46ec-95b7-34e9537c8189",
   "metadata": {},
   "outputs": [
    {
     "name": "stdout",
     "output_type": "stream",
     "text": [
      "Branch can still split\n",
      "Feature max : CL2c value 0.0 with percentage : 97.43589743589743 %\n",
      "data_max shape : (38, 35)\n",
      "data_min shape : (1, 35)\n",
      "Clustering done on 'min' branch, sample is alone\n"
     ]
    }
   ],
   "source": [
    "most_frequent = frequency(data3)\n",
    "percentages = perc(data3, most_frequent)\n",
    "data5, data6 = makeTree(data3, percentages, most_frequent)"
   ]
  },
  {
   "cell_type": "markdown",
   "id": "0bbba04d-d92d-41fa-b2b1-3f12ab574f73",
   "metadata": {},
   "source": [
    "$CL2c = 0$ : you legal > 1 illegal adult"
   ]
  },
  {
   "cell_type": "code",
   "execution_count": 11,
   "id": "74fbcd89-6580-49f0-ab4f-75450cb2b8cc",
   "metadata": {},
   "outputs": [
    {
     "data": {
      "text/html": [
       "<div>\n",
       "<style scoped>\n",
       "    .dataframe tbody tr th:only-of-type {\n",
       "        vertical-align: middle;\n",
       "    }\n",
       "\n",
       "    .dataframe tbody tr th {\n",
       "        vertical-align: top;\n",
       "    }\n",
       "\n",
       "    .dataframe thead th {\n",
       "        text-align: right;\n",
       "    }\n",
       "</style>\n",
       "<table border=\"1\" class=\"dataframe\">\n",
       "  <thead>\n",
       "    <tr style=\"text-align: right;\">\n",
       "      <th></th>\n",
       "      <th>CL1a</th>\n",
       "      <th>CL1b</th>\n",
       "      <th>CL1c</th>\n",
       "      <th>CL1d</th>\n",
       "      <th>CL1e</th>\n",
       "      <th>CL1f</th>\n",
       "      <th>CL1g</th>\n",
       "      <th>CL1h</th>\n",
       "      <th>CL2a</th>\n",
       "      <th>CL2b</th>\n",
       "      <th>...</th>\n",
       "      <th>CL4d</th>\n",
       "      <th>CL4e</th>\n",
       "      <th>CL4f</th>\n",
       "      <th>CL4g</th>\n",
       "      <th>CL4h</th>\n",
       "      <th>CL4i</th>\n",
       "      <th>CL4j</th>\n",
       "      <th>CL5a</th>\n",
       "      <th>CL5b</th>\n",
       "      <th>CL5c</th>\n",
       "    </tr>\n",
       "  </thead>\n",
       "  <tbody>\n",
       "    <tr>\n",
       "      <th>16</th>\n",
       "      <td>2.0</td>\n",
       "      <td>2.0</td>\n",
       "      <td>1.0</td>\n",
       "      <td>1.0</td>\n",
       "      <td>1.0</td>\n",
       "      <td>0.0</td>\n",
       "      <td>1.0</td>\n",
       "      <td>1.0</td>\n",
       "      <td>2.0</td>\n",
       "      <td>2.0</td>\n",
       "      <td>...</td>\n",
       "      <td>1.0</td>\n",
       "      <td>1.0</td>\n",
       "      <td>0.0</td>\n",
       "      <td>1.0</td>\n",
       "      <td>1.0</td>\n",
       "      <td>0.0</td>\n",
       "      <td>0.0</td>\n",
       "      <td>0.0</td>\n",
       "      <td>1.0</td>\n",
       "      <td>1.0</td>\n",
       "    </tr>\n",
       "  </tbody>\n",
       "</table>\n",
       "<p>1 rows × 35 columns</p>\n",
       "</div>"
      ],
      "text/plain": [
       "    CL1a  CL1b  CL1c  CL1d  CL1e  CL1f  CL1g  CL1h  CL2a  CL2b  ...  CL4d  \\\n",
       "16   2.0   2.0   1.0   1.0   1.0   0.0   1.0   1.0   2.0   2.0  ...   1.0   \n",
       "\n",
       "    CL4e  CL4f  CL4g  CL4h  CL4i  CL4j  CL5a  CL5b  CL5c  \n",
       "16   1.0   0.0   1.0   1.0   0.0   0.0   0.0   1.0   1.0  \n",
       "\n",
       "[1 rows x 35 columns]"
      ]
     },
     "execution_count": 11,
     "metadata": {},
     "output_type": "execute_result"
    }
   ],
   "source": [
    "data6"
   ]
  },
  {
   "cell_type": "markdown",
   "id": "978ecf83-3c20-4d3a-b781-951c915ccf25",
   "metadata": {},
   "source": [
    "## Separating by most different features "
   ]
  },
  {
   "cell_type": "code",
   "execution_count": 12,
   "id": "9f000a69-e166-4ee5-bbf5-1dc9f45ca308",
   "metadata": {},
   "outputs": [
    {
     "data": {
      "text/plain": [
       "(38, 35)"
      ]
     },
     "execution_count": 12,
     "metadata": {},
     "output_type": "execute_result"
    }
   ],
   "source": [
    "data0 = data5\n",
    "data0.shape"
   ]
  },
  {
   "cell_type": "code",
   "execution_count": 13,
   "id": "55d589e9-c432-4c73-994a-30d3b57d0cad",
   "metadata": {},
   "outputs": [
    {
     "name": "stdout",
     "output_type": "stream",
     "text": [
      "Feature min : CL1d value 0.0 with percentage : 50.0 %\n",
      "data_max shape : (19, 34)\n",
      "data_min shape : (19, 34)\n"
     ]
    }
   ],
   "source": [
    "data1, data2 = makeTree50(data0)"
   ]
  },
  {
   "cell_type": "code",
   "execution_count": 14,
   "id": "e8299af9-50e3-4fc0-8ed4-11f7d9a36484",
   "metadata": {},
   "outputs": [
    {
     "name": "stdout",
     "output_type": "stream",
     "text": [
      "Feature min : CL1h value 0.0 with percentage : 47.36842105263158 %\n",
      "data_max shape : (9, 33)\n",
      "data_min shape : (10, 33)\n"
     ]
    }
   ],
   "source": [
    "data3, data4 = makeTree50(data1)"
   ]
  },
  {
   "cell_type": "code",
   "execution_count": 15,
   "id": "a1f2eef1-d148-4239-8a5e-2333b750db54",
   "metadata": {},
   "outputs": [
    {
     "name": "stdout",
     "output_type": "stream",
     "text": [
      "Feature min : CL1e value 1.0 with percentage : 47.36842105263158 %\n",
      "data_max shape : (9, 33)\n",
      "data_min shape : (10, 33)\n"
     ]
    }
   ],
   "source": [
    "data5, data6 = makeTree50(data2)"
   ]
  },
  {
   "cell_type": "markdown",
   "id": "d6ea1788-b8f4-4d66-ba7e-8767bec06fe9",
   "metadata": {},
   "source": [
    "## Accuracies"
   ]
  },
  {
   "cell_type": "code",
   "execution_count": 16,
   "id": "21d3dac7-366b-4a2a-8c19-7b5fa41938a2",
   "metadata": {},
   "outputs": [],
   "source": [
    "scenarios = data.iloc[:, 61:74]"
   ]
  },
  {
   "cell_type": "markdown",
   "id": "818ace7f-d14a-41be-ac04-82b5ebcace30",
   "metadata": {},
   "source": [
    "### Group 1 (data3) accuracy"
   ]
  },
  {
   "cell_type": "code",
   "execution_count": 17,
   "id": "dc9c9c1a-81d2-40fc-9cca-85bc6e14e3b4",
   "metadata": {},
   "outputs": [],
   "source": [
    "indices3 = data3.index\n",
    "scenarios3 = scenarios.loc[indices3]\n",
    "most_frequent3 = frequency(scenarios3) #this is the most frequent answer by scenario for the group \n",
    "#It is then compared to what we think the group should have answered."
   ]
  },
  {
   "cell_type": "code",
   "execution_count": 18,
   "id": "37009ca6-f486-4247-8740-823af87c42d9",
   "metadata": {},
   "outputs": [
    {
     "data": {
      "text/html": [
       "<div>\n",
       "<style scoped>\n",
       "    .dataframe tbody tr th:only-of-type {\n",
       "        vertical-align: middle;\n",
       "    }\n",
       "\n",
       "    .dataframe tbody tr th {\n",
       "        vertical-align: top;\n",
       "    }\n",
       "\n",
       "    .dataframe thead th {\n",
       "        text-align: right;\n",
       "    }\n",
       "</style>\n",
       "<table border=\"1\" class=\"dataframe\">\n",
       "  <thead>\n",
       "    <tr style=\"text-align: right;\">\n",
       "      <th></th>\n",
       "      <th>0</th>\n",
       "      <th>1</th>\n",
       "      <th>2</th>\n",
       "      <th>3</th>\n",
       "      <th>4</th>\n",
       "      <th>5</th>\n",
       "      <th>6</th>\n",
       "      <th>7</th>\n",
       "      <th>8</th>\n",
       "      <th>9</th>\n",
       "      <th>10</th>\n",
       "      <th>11</th>\n",
       "      <th>12</th>\n",
       "    </tr>\n",
       "  </thead>\n",
       "  <tbody>\n",
       "    <tr>\n",
       "      <th>0</th>\n",
       "      <td>77.777778</td>\n",
       "      <td>100.0</td>\n",
       "      <td>66.666667</td>\n",
       "      <td>55.555556</td>\n",
       "      <td>44.444444</td>\n",
       "      <td>66.666667</td>\n",
       "      <td>55.555556</td>\n",
       "      <td>33.333333</td>\n",
       "      <td>33.333333</td>\n",
       "      <td>77.777778</td>\n",
       "      <td>77.777778</td>\n",
       "      <td>44.444444</td>\n",
       "      <td>55.555556</td>\n",
       "    </tr>\n",
       "  </tbody>\n",
       "</table>\n",
       "</div>"
      ],
      "text/plain": [
       "          0      1          2          3          4          5          6   \\\n",
       "0  77.777778  100.0  66.666667  55.555556  44.444444  66.666667  55.555556   \n",
       "\n",
       "          7          8          9          10         11         12  \n",
       "0  33.333333  33.333333  77.777778  77.777778  44.444444  55.555556  "
      ]
     },
     "execution_count": 18,
     "metadata": {},
     "output_type": "execute_result"
    }
   ],
   "source": [
    "percentages3= perc(scenarios3, most_frequent3)\n",
    "percentages3.T"
   ]
  },
  {
   "cell_type": "markdown",
   "id": "a8e57325-3f79-4de1-b09c-a6c2081d9c19",
   "metadata": {},
   "source": [
    "### Group 2 (data4) accuracy"
   ]
  },
  {
   "cell_type": "code",
   "execution_count": 19,
   "id": "cad15b56-75ba-4de2-a906-62e253b0327c",
   "metadata": {},
   "outputs": [],
   "source": [
    "indices4 = data4.index\n",
    "scenarios4 = scenarios.loc[indices4]\n",
    "most_frequent4 = frequency(scenarios4)"
   ]
  },
  {
   "cell_type": "code",
   "execution_count": 20,
   "id": "6f057df6-f8b2-431c-b059-38807785197b",
   "metadata": {},
   "outputs": [
    {
     "data": {
      "text/html": [
       "<div>\n",
       "<style scoped>\n",
       "    .dataframe tbody tr th:only-of-type {\n",
       "        vertical-align: middle;\n",
       "    }\n",
       "\n",
       "    .dataframe tbody tr th {\n",
       "        vertical-align: top;\n",
       "    }\n",
       "\n",
       "    .dataframe thead th {\n",
       "        text-align: right;\n",
       "    }\n",
       "</style>\n",
       "<table border=\"1\" class=\"dataframe\">\n",
       "  <thead>\n",
       "    <tr style=\"text-align: right;\">\n",
       "      <th></th>\n",
       "      <th>0</th>\n",
       "      <th>1</th>\n",
       "      <th>2</th>\n",
       "      <th>3</th>\n",
       "      <th>4</th>\n",
       "      <th>5</th>\n",
       "      <th>6</th>\n",
       "      <th>7</th>\n",
       "      <th>8</th>\n",
       "      <th>9</th>\n",
       "      <th>10</th>\n",
       "      <th>11</th>\n",
       "      <th>12</th>\n",
       "    </tr>\n",
       "  </thead>\n",
       "  <tbody>\n",
       "    <tr>\n",
       "      <th>0</th>\n",
       "      <td>70.0</td>\n",
       "      <td>70.0</td>\n",
       "      <td>50.0</td>\n",
       "      <td>60.0</td>\n",
       "      <td>40.0</td>\n",
       "      <td>90.0</td>\n",
       "      <td>70.0</td>\n",
       "      <td>50.0</td>\n",
       "      <td>50.0</td>\n",
       "      <td>80.0</td>\n",
       "      <td>70.0</td>\n",
       "      <td>40.0</td>\n",
       "      <td>50.0</td>\n",
       "    </tr>\n",
       "  </tbody>\n",
       "</table>\n",
       "</div>"
      ],
      "text/plain": [
       "     0     1     2     3     4     5     6     7     8     9     10    11  \\\n",
       "0  70.0  70.0  50.0  60.0  40.0  90.0  70.0  50.0  50.0  80.0  70.0  40.0   \n",
       "\n",
       "     12  \n",
       "0  50.0  "
      ]
     },
     "execution_count": 20,
     "metadata": {},
     "output_type": "execute_result"
    }
   ],
   "source": [
    "percentages4 = perc(scenarios4, most_frequent4)\n",
    "percentages4.T"
   ]
  },
  {
   "cell_type": "markdown",
   "id": "6d17534e-ee76-42f0-a23e-e9dd18421aca",
   "metadata": {},
   "source": [
    "### Group 3 (data5) accuracy"
   ]
  },
  {
   "cell_type": "code",
   "execution_count": 21,
   "id": "a7f764bb-69df-4f12-a30f-80a986dbab59",
   "metadata": {},
   "outputs": [],
   "source": [
    "indices5 = data5.index\n",
    "scenarios5 = scenarios.loc[indices5]\n",
    "most_frequent5 = frequency(scenarios5)"
   ]
  },
  {
   "cell_type": "code",
   "execution_count": 22,
   "id": "8ee2215b-6abc-4d87-8df4-e21325411d01",
   "metadata": {},
   "outputs": [
    {
     "data": {
      "text/html": [
       "<div>\n",
       "<style scoped>\n",
       "    .dataframe tbody tr th:only-of-type {\n",
       "        vertical-align: middle;\n",
       "    }\n",
       "\n",
       "    .dataframe tbody tr th {\n",
       "        vertical-align: top;\n",
       "    }\n",
       "\n",
       "    .dataframe thead th {\n",
       "        text-align: right;\n",
       "    }\n",
       "</style>\n",
       "<table border=\"1\" class=\"dataframe\">\n",
       "  <thead>\n",
       "    <tr style=\"text-align: right;\">\n",
       "      <th></th>\n",
       "      <th>0</th>\n",
       "      <th>1</th>\n",
       "      <th>2</th>\n",
       "      <th>3</th>\n",
       "      <th>4</th>\n",
       "      <th>5</th>\n",
       "      <th>6</th>\n",
       "      <th>7</th>\n",
       "      <th>8</th>\n",
       "      <th>9</th>\n",
       "      <th>10</th>\n",
       "      <th>11</th>\n",
       "      <th>12</th>\n",
       "    </tr>\n",
       "  </thead>\n",
       "  <tbody>\n",
       "    <tr>\n",
       "      <th>0</th>\n",
       "      <td>55.555556</td>\n",
       "      <td>88.888889</td>\n",
       "      <td>55.555556</td>\n",
       "      <td>44.444444</td>\n",
       "      <td>44.444444</td>\n",
       "      <td>88.888889</td>\n",
       "      <td>44.444444</td>\n",
       "      <td>66.666667</td>\n",
       "      <td>44.444444</td>\n",
       "      <td>88.888889</td>\n",
       "      <td>77.777778</td>\n",
       "      <td>55.555556</td>\n",
       "      <td>55.555556</td>\n",
       "    </tr>\n",
       "  </tbody>\n",
       "</table>\n",
       "</div>"
      ],
      "text/plain": [
       "          0          1          2          3          4          5   \\\n",
       "0  55.555556  88.888889  55.555556  44.444444  44.444444  88.888889   \n",
       "\n",
       "          6          7          8          9          10         11         12  \n",
       "0  44.444444  66.666667  44.444444  88.888889  77.777778  55.555556  55.555556  "
      ]
     },
     "execution_count": 22,
     "metadata": {},
     "output_type": "execute_result"
    }
   ],
   "source": [
    "percentages5 = perc(scenarios5, most_frequent5)\n",
    "percentages5.T"
   ]
  },
  {
   "cell_type": "markdown",
   "id": "754e243f-0406-4dac-a298-6fff06987966",
   "metadata": {},
   "source": [
    "### Group 4 (data6) accuracy"
   ]
  },
  {
   "cell_type": "code",
   "execution_count": 23,
   "id": "942939fe-0a3d-4e1e-a806-bfcb34db94fd",
   "metadata": {},
   "outputs": [],
   "source": [
    "indices6 = data6.index\n",
    "scenarios6 = scenarios.loc[indices6]\n",
    "most_frequent6 = frequency(scenarios6)"
   ]
  },
  {
   "cell_type": "code",
   "execution_count": 24,
   "id": "fcf5187e-8e62-4bb9-bde7-aedfda8e3591",
   "metadata": {},
   "outputs": [
    {
     "data": {
      "text/html": [
       "<div>\n",
       "<style scoped>\n",
       "    .dataframe tbody tr th:only-of-type {\n",
       "        vertical-align: middle;\n",
       "    }\n",
       "\n",
       "    .dataframe tbody tr th {\n",
       "        vertical-align: top;\n",
       "    }\n",
       "\n",
       "    .dataframe thead th {\n",
       "        text-align: right;\n",
       "    }\n",
       "</style>\n",
       "<table border=\"1\" class=\"dataframe\">\n",
       "  <thead>\n",
       "    <tr style=\"text-align: right;\">\n",
       "      <th></th>\n",
       "      <th>0</th>\n",
       "      <th>1</th>\n",
       "      <th>2</th>\n",
       "      <th>3</th>\n",
       "      <th>4</th>\n",
       "      <th>5</th>\n",
       "      <th>6</th>\n",
       "      <th>7</th>\n",
       "      <th>8</th>\n",
       "      <th>9</th>\n",
       "      <th>10</th>\n",
       "      <th>11</th>\n",
       "      <th>12</th>\n",
       "    </tr>\n",
       "  </thead>\n",
       "  <tbody>\n",
       "    <tr>\n",
       "      <th>0</th>\n",
       "      <td>60.0</td>\n",
       "      <td>90.0</td>\n",
       "      <td>50.0</td>\n",
       "      <td>40.0</td>\n",
       "      <td>50.0</td>\n",
       "      <td>90.0</td>\n",
       "      <td>60.0</td>\n",
       "      <td>70.0</td>\n",
       "      <td>50.0</td>\n",
       "      <td>60.0</td>\n",
       "      <td>90.0</td>\n",
       "      <td>70.0</td>\n",
       "      <td>50.0</td>\n",
       "    </tr>\n",
       "  </tbody>\n",
       "</table>\n",
       "</div>"
      ],
      "text/plain": [
       "     0     1     2     3     4     5     6     7     8     9     10    11  \\\n",
       "0  60.0  90.0  50.0  40.0  50.0  90.0  60.0  70.0  50.0  60.0  90.0  70.0   \n",
       "\n",
       "     12  \n",
       "0  50.0  "
      ]
     },
     "execution_count": 24,
     "metadata": {},
     "output_type": "execute_result"
    }
   ],
   "source": [
    "percentages6 = perc(scenarios6, most_frequent6)\n",
    "percentages6.T"
   ]
  }
 ],
 "metadata": {
  "kernelspec": {
   "display_name": "Python 3 (ipykernel)",
   "language": "python",
   "name": "python3"
  },
  "language_info": {
   "codemirror_mode": {
    "name": "ipython",
    "version": 3
   },
   "file_extension": ".py",
   "mimetype": "text/x-python",
   "name": "python",
   "nbconvert_exporter": "python",
   "pygments_lexer": "ipython3",
   "version": "3.9.7"
  },
  "toc-showmarkdowntxt": false
 },
 "nbformat": 4,
 "nbformat_minor": 5
}
