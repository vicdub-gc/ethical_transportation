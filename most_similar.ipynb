{
 "cells": [
  {
   "cell_type": "markdown",
   "id": "5cd12f8e-3815-4a5a-86a0-c9da20cbe6a3",
   "metadata": {
    "tags": []
   },
   "source": [
    "# Sorting and constructing tree by most similar features ordering"
   ]
  },
  {
   "cell_type": "code",
   "execution_count": 1,
   "id": "695c61b9-e4fe-4366-b3c3-ed2cb64b96c3",
   "metadata": {
    "tags": []
   },
   "outputs": [],
   "source": [
    "import numpy as np\n",
    "import pandas as pd\n",
    "from functions import *"
   ]
  },
  {
   "cell_type": "code",
   "execution_count": 2,
   "id": "b0ddd052-d1cf-4558-9034-b8f8e3b49569",
   "metadata": {},
   "outputs": [],
   "source": [
    "data = pd.read_excel('data_final.xlsx')"
   ]
  },
  {
   "cell_type": "code",
   "execution_count": 3,
   "id": "18a2a9f8-3db7-41b0-b04f-e3c237885a48",
   "metadata": {},
   "outputs": [],
   "source": [
    "data = data.drop(columns = ['Unnamed: 84', 'Unnamed: 85', 'Q5', 'Q6', 'Q7', 'Q8', 'Q9', 'Q10'])"
   ]
  },
  {
   "cell_type": "code",
   "execution_count": 4,
   "id": "1b215d88-0bd2-41f3-bb8b-e5ddb5e302a9",
   "metadata": {},
   "outputs": [],
   "source": [
    "data['Dummy'].replace(['A', 'B'], [0, 1], inplace=True)\n",
    "data['S0a'].replace([\"A - Save myself\", \"B - Crash and do not save myself (I sacrifice myself)\", \"C - I don't know what to choose, the car will continue its original plan (going straight)\", \"D - I don't know what to choose, I let the car take a random decision\"], [0, 1, 2, 3], inplace=True)\n",
    "data['S0b'].replace([\"A - Save myself\", \"B - Crash and do not save myself (I sacrifice myself)\", \"C - I don't know what to choose, the car will continue its original plan (going straight)\", \"D - I don't know what to choose, I let the car take a random decision\"], [0, 1, 2, 3], inplace=True)\n",
    "data['S0c'].replace([\"A - Save myself\", \"B - Crash and do not save myself (I sacrifice myself)\", \"C - I don't know what to choose, the car will continue its original plan (going straight)\", \"D - I don't know what to choose, I let the car take a random decision\"], [0, 1, 2, 3], inplace=True)\n",
    "data['S2a'].replace([\"A - Save myself\", \"B - Crash and do not save myself (I sacrifice myself)\", \"C - I don't know what to choose, the car will continue its original plan (going straight)\", \"D - I don't know what to choose, I let the car take a random decision\"], [0, 1, 2, 3], inplace=True)\n",
    "data['S2b'].replace([\"A - Save myself\", \"B - Crash and do not save myself (I sacrifice myself)\", \"C - I don't know what to choose, the car will continue its original plan (going straight)\", \"D - I don't know what to choose, I let the car take a random decision\"], [0, 1, 2, 3], inplace=True)\n",
    "data['S3a'].replace([\"A - Save myself\", \"B - Crash and do not save myself (I sacrifice myself)\", \"C - I don't know what to choose, the car will continue its original plan (going straight)\", \"D - I don't know what to choose, I let the car take a random decision\"], [0, 1, 2, 3], inplace=True)\n",
    "data['S3b'].replace([\"A - Save myself\", \"B - Crash and do not save myself (I sacrifice myself)\", \"C - I don't know what to choose, the car will continue its original plan (going straight)\", \"D - I don't know what to choose, I let the car take a random decision\"], [0, 1, 2, 3], inplace=True)\n",
    "data['S4a'].replace([\"A - Keep going\", \"B - Change plan\", \"C - I don't know what to choose, the car will continue its original plan (going straight)\", \"D - I don't know what to choose, I let the car take a random decision\"], [0, 1, 2, 3], inplace=True)\n",
    "data['S4b'].replace([\"A - Keep going\", \"B - Change plan\", \"C - I don't know what to choose, the car will continue its original plan (going straight)\", \"D - I don't know what to choose, I let the car take a random decision\"], [0, 1, 2, 3], inplace=True)\n",
    "data['S5a'].replace([\"A - Keep going\", \"B - Change plan\", \"C - I don't know what to choose, the car will continue its original plan (going straight)\", \"D - I don't know what to choose, I let the car take a random decision\"], [0, 1, 2, 3], inplace=True)\n",
    "data['S5b'].replace([\"A - Keep going\", \"B - Change plan\", \"C - I don't know what to choose, the car will continue its original plan (going straight)\", \"D - I don't know what to choose, I let the car take a random decision\"], [0, 1, 2, 3], inplace=True)\n",
    "data['S6a'].replace([\"A - Guarantee the protection of the passengers\", \"B - Do not necessarily guarantee the protection of the passengers\", \"C - I don't know what to choose, the car will continue its original plan (going straight)\", \"D - I don't know what to choose, I let the car take a random decision\"], [0, 1, 2, 3], inplace=True)\n",
    "data['S6b'].replace([\"A - Guarantee the protection of the PASSENGER\", \"B - Do not necessarily guarantee the protection of the PASSENGER\", \"C - I don't know what to choose, the car will continue its original plan (going straight)\", \"D - I don't know what to choose, I let the car take a random decision\"], [0, 1, 2, 3], inplace=True)\n",
    "data['S7a'].replace([\"A - Guarantee the protection of the PASSENGER\", \"B - Do not necessarily guarantee the protection of the PASSENGER\", \"C - I don't know what to choose, the car will continue its original plan (going straight)\", \"D - I don't know what to choose, I let the car take a random decision\"], [0, 1, 2, 3], inplace=True)\n",
    "data['S7b'].replace([\"A - Guarantee the protection of the PASSENGER\", \"B - Do not necessarily guarantee the protection of the PASSENGER\", \"C - I don't know what to choose, the car will continue its original plan (going straight)\", \"D - I don't know what to choose, I let the car take a random decision\"], [0, 1, 2, 3], inplace=True)\n",
    "data['S8a'].replace([\"A - Guarantee the protection of the PASSENGER\", \"B - Do not necessarily guarantee the protection of the PASSENGER\", \"C - I don't know what to choose, the car will continue its original plan (going straight)\", \"D - I don't know what to choose, I let the car take a random decision\"], [0, 1, 2, 3], inplace=True)\n",
    "data['S8b'].replace([\"A - Guarantee the protection of the PASSENGER\", \"B - Do not necessarily guarantee the protection of the PASSENGER\", \"C - I don't know what to choose, the car will continue its original plan (going straight)\", \"D - I don't know what to choose, I let the car take a random decision\"], [0, 1, 2, 3], inplace=True)\n",
    "data['S9a'].replace([\"A - Go straight ahead\", \"B - Swerve\", \"C - I don't know what to choose, the car will continue its original plan (going straight)\", \"D - I don't know what to choose, I let the car take a random decision\"], [0, 1, 2, 3], inplace=True)\n",
    "data['S9b'].replace([\"A - Go straight ahead\", \"B - Swerve\", \"C - I don't know what to choose, the car will continue its original plan (going straight)\", \"D - I don't know what to choose, I let the car take a random decision\"], [0, 1, 2, 3], inplace=True)\n",
    "data['S10a'].replace([\"A - Go straight ahead\", \"B - Swerve\", \"C - I don't know what to choose, the car will continue its original plan (going straight)\", \"D - I don't know what to choose, I let the car take a random decision\"], [0, 1, 2, 3], inplace=True)\n",
    "data['S10b'].replace([\"A - Go straight ahead\", \"B - Swerve\", \"C - I don't know what to choose, the car will continue its original plan (going straight)\", \"D - I don't know what to choose, I let the car take a random decision\"], [0, 1, 2, 3], inplace=True)\n",
    "data['S11a'].replace([\"A - Go straight ahead\", \"B - Swerve\", \"C - I don't know what to choose, the car will continue its original plan (going straight)\", \"D - I don't know what to choose, I let the car take a random decision\"], [0, 1, 2, 3], inplace=True)\n",
    "\n",
    "data['CL1a'].replace([\">\", \"=\", \"<\"], [0, 1, 2], inplace=True)\n",
    "data['CL1b'].replace([\">\", \"=\", \"<\"], [0, 1, 2], inplace=True)\n",
    "data['CL1c'].replace([\">\", \"=\", \"<\"], [0, 1, 2], inplace=True)\n",
    "data['CL1d'].replace([\">\", \"=\", \"<\"], [0, 1, 2], inplace=True)\n",
    "data['CL1e'].replace([\">\", \"=\", \"<\"], [0, 1, 2], inplace=True)\n",
    "data['CL1f'].replace([\">\", \"=\", \"<\"], [0, 1, 2], inplace=True)\n",
    "data['CL1g'].replace([\">\", \"=\", \"<\"], [0, 1, 2], inplace=True)\n",
    "data['CL1h'].replace([\">\", \"=\", \"<\"], [0, 1, 2], inplace=True)\n",
    "\n",
    "data['CL2a'].replace([\">\", \"=\", \"<\"], [0, 1, 2], inplace=True)\n",
    "data['CL2b'].replace([\">\", \"=\", \"<\"], [0, 1, 2], inplace=True)\n",
    "data['CL2c'].replace([\">\", \"=\", \"<\"], [0, 1, 2], inplace=True)\n",
    "data['CL2d'].replace([\">\", \"=\", \"<\"], [0, 1, 2], inplace=True)\n",
    "data['CL2e'].replace([\">\", \"=\", \"<\"], [0, 1, 2], inplace=True)\n",
    "data['CL2f'].replace([\">\", \"=\", \"<\"], [0, 1, 2], inplace=True)\n",
    "data['CL2g'].replace([\">\", \"=\", \"<\"], [0, 1, 2], inplace=True)\n",
    "data['CL2h'].replace([\">\", \"=\", \"<\"], [0, 1, 2], inplace=True)\n",
    "\n",
    "data['CL3a'].replace([\">\", \"=\", \"<\"], [0, 1, 2], inplace=True)\n",
    "data['CL3b'].replace([\">\", \"=\", \"<\"], [0, 1, 2], inplace=True)\n",
    "data['CL3c'].replace([\">\", \"=\", \"<\"], [0, 1, 2], inplace=True)\n",
    "data['CL3d'].replace([\">\", \"=\", \"<\"], [0, 1, 2], inplace=True)\n",
    "data['CL3e'].replace([\">\", \"=\", \"<\"], [0, 1, 2], inplace=True)\n",
    "data['CL3f'].replace([\">\", \"=\", \"<\"], [0, 1, 2], inplace=True)\n",
    "data['CL3g'].replace([\">\", \"=\", \"<\"], [0, 1, 2], inplace=True)\n",
    "data['CL3h'].replace([\">\", \"=\", \"<\"], [0, 1, 2], inplace=True)\n",
    "data['CL3i'].replace([\">\", \"=\", \"<\"], [0, 1, 2], inplace=True)\n",
    "\n",
    "data['CL4a'].replace([\">\", \"=\", \"<\"], [0, 1, 2], inplace=True)\n",
    "data['CL4b'].replace([\">\", \"=\", \"<\"], [0, 1, 2], inplace=True)\n",
    "data['CL4c'].replace([\">\", \"=\", \"<\"], [0, 1, 2], inplace=True)\n",
    "data['CL4d'].replace([\">\", \"=\", \"<\"], [0, 1, 2], inplace=True)\n",
    "data['CL4e'].replace([\">\", \"=\", \"<\"], [0, 1, 2], inplace=True)\n",
    "data['CL4f'].replace([\">\", \"=\", \"<\"], [0, 1, 2], inplace=True)\n",
    "data['CL4g'].replace([\">\", \"=\", \"<\"], [0, 1, 2], inplace=True)\n",
    "data['CL4h'].replace([\">\", \"=\", \"<\"], [0, 1, 2], inplace=True)\n",
    "data['CL4i'].replace([\">\", \"=\", \"<\"], [0, 1, 2], inplace=True)\n",
    "data['CL4j'].replace([\">\", \"=\", \"<\"], [0, 1, 2], inplace=True)\n",
    "\n",
    "data['CL5a'].replace([\">\", \"=\", \"<\"], [0, 1, 2], inplace=True)\n",
    "data['CL5b'].replace([\">\", \"=\", \"<\"], [0, 1, 2], inplace=True)\n",
    "data['CL5c'].replace([\">\", \"=\", \"<\"], [0, 1, 2], inplace=True)\n",
    "\n",
    "data['S12'].replace([\"A\", \"B\", \"C - I don't know what to choose, the car will continue its original plan (going straight)\", \"D - I don't know what to choose, I let the car take a random decision\"], [0, 1, 2, 3], inplace=True)\n",
    "data['S13'].replace([\"A\", \"B\", \"C - I don't know what to choose, the car will continue its original plan (going straight)\", \"D - I don't know what to choose, I let the car take a random decision\"], [0, 1, 2, 3], inplace=True)\n",
    "data['S14'].replace([\"A\", \"B\", \"C - I don't know what to choose, the car will continue its original plan (going straight)\", \"D - I don't know what to choose, I let the car take a random decision\"], [0, 1, 2, 3], inplace=True)\n",
    "data['S15'].replace([\"A\", \"B\", \"C - I don't know what to choose, the car will continue its original plan (going straight)\", \"D - I don't know what to choose, I let the car take a random decision\"], [0, 1, 2, 3], inplace=True)\n",
    "data['S16'].replace([\"A\", \"B\", \"C - I don't know what to choose, the car will continue its original plan (going straight)\", \"D - I don't know what to choose, I let the car take a random decision\"], [0, 1, 2, 3], inplace=True)\n",
    "data['S17'].replace([\"A\", \"B\", \"C - I don't know what to choose, the car will continue its original plan (going straight)\", \"D - I don't know what to choose, I let the car take a random decision\"], [0, 1, 2, 3], inplace=True)\n",
    "data['S18'].replace([\"A\", \"B\", \"C - I don't know what to choose, the car will continue its original plan (going straight)\", \"D - I don't know what to choose, I let the car take a random decision\"], [0, 1, 2, 3], inplace=True)\n",
    "data['S19'].replace([\"A\", \"B\", \"C - I don't know what to choose, the car will continue its original plan (going straight)\", \"D - I don't know what to choose, I let the car take a random decision\"], [0, 1, 2, 3], inplace=True)\n",
    "data['S20'].replace([\"A\", \"B\", \"C - I don't know what to choose, the car will continue its original plan (going straight)\", \"D - I don't know what to choose, I let the car take a random decision\"], [0, 1, 2, 3], inplace=True)\n",
    "data['S21'].replace([\"A\", \"B\", \"C - I don't know what to choose, the car will continue its original plan (going straight)\", \"D - I don't know what to choose, I let the car take a random decision\"], [0, 1, 2, 3], inplace=True)\n",
    "data['S22'].replace([\"A\", \"B\", \"C - I don't know what to choose, the car will continue its original plan (going straight)\", \"D - I don't know what to choose, I let the car take a random decision\"], [0, 1, 2, 3], inplace=True)\n",
    "data['Sadd1'].replace([\"A\", \"B\", \"C - I don't know what to choose, the car will continue its original plan (going straight)\", \"D - I don't know what to choose, I let the car take a random decision\"], [0, 1, 2, 3], inplace=True)\n",
    "data['Sadd2'].replace([\"A\", \"B\", \"C - I don't know what to choose, the car will continue its original plan (going straight)\", \"D - I don't know what to choose, I let the car take a random decision\"], [0, 1, 2, 3], inplace=True)\n",
    "\n",
    "data['Q1'].replace([\"Yes\", \"No\"], [1, 0], inplace=True)\n",
    "data['Q2'].replace([\"Use an adaptative software\", \"Use the generic one\"], [1, 0], inplace=True)\n",
    "data['Q3'].replace([\"No\", \"City\", \"Highway\", \"Both\"], [0, 1, 2, 3], inplace=True)\n",
    "data['Q4'].replace([\"Yes\", \"No\"], [1, 0], inplace=True)"
   ]
  },
  {
   "cell_type": "code",
   "execution_count": 5,
   "id": "5a8008d1-3cb6-48dd-8075-d5ec2b188f3c",
   "metadata": {},
   "outputs": [
    {
     "data": {
      "text/plain": [
       "(45, 38)"
      ]
     },
     "execution_count": 5,
     "metadata": {},
     "output_type": "execute_result"
    }
   ],
   "source": [
    "data = data.iloc[:, 23:61]\n",
    "data.shape"
   ]
  },
  {
   "cell_type": "markdown",
   "id": "ff0b4b5e-ff06-4af2-9433-fb80d15086a4",
   "metadata": {},
   "source": [
    "## 1st split : data --> data_1 + data_2"
   ]
  },
  {
   "cell_type": "code",
   "execution_count": 6,
   "id": "73cbcb74-f7b9-4176-9bc0-29193690f00a",
   "metadata": {},
   "outputs": [
    {
     "name": "stdout",
     "output_type": "stream",
     "text": [
      "Branch can still split\n",
      "Feature max : CL2f value 0.0 with percentage : 93.33333333333333 %\n",
      "data_max shape : (42, 37)\n",
      "data_min shape : (3, 37)\n"
     ]
    }
   ],
   "source": [
    "most_frequent = frequency(data)\n",
    "percentages = perc(data, most_frequent)\n",
    "data_1, data_2 = makeTree(data, percentages, most_frequent)"
   ]
  },
  {
   "cell_type": "markdown",
   "id": "626ee6d8-b081-41ba-af29-cdf8d67a1b6b",
   "metadata": {},
   "source": [
    "### 2nd split : data_1 --> data_3 + data_4"
   ]
  },
  {
   "cell_type": "code",
   "execution_count": 7,
   "id": "2c214153-1d7d-4656-a753-69b6ad7a8ed0",
   "metadata": {},
   "outputs": [
    {
     "name": "stdout",
     "output_type": "stream",
     "text": [
      "Branch can still split\n",
      "Feature max : CL3a value 2.0 with percentage : 92.85714285714286 %\n",
      "data_max shape : (39, 36)\n",
      "data_min shape : (3, 36)\n"
     ]
    }
   ],
   "source": [
    "most_frequent = frequency(data_1)\n",
    "percentages = perc(data_1, most_frequent)\n",
    "data_3, data_4 = makeTree(data_1, percentages, most_frequent)"
   ]
  },
  {
   "cell_type": "markdown",
   "id": "be3a018d-93a2-41ba-85da-b6f8f0c40dab",
   "metadata": {
    "tags": []
   },
   "source": [
    "### 1st drop : data_2 --> data_5"
   ]
  },
  {
   "cell_type": "code",
   "execution_count": 8,
   "id": "d3174cab-51fa-4311-990b-55f11058d47c",
   "metadata": {},
   "outputs": [
    {
     "name": "stdout",
     "output_type": "stream",
     "text": [
      "End of this branch\n",
      "Feature max : CL1b value 2.0 with percentage : 100.0 %\n",
      "Feature max : CL1f value 0.0 with percentage : 100.0 %\n",
      "Feature max : CL1g value 0.0 with percentage : 100.0 %\n",
      "Feature max : CL2h value 1.0 with percentage : 100.0 %\n",
      "Feature max : CL3a value 2.0 with percentage : 100.0 %\n",
      "Feature max : CL3g value 1.0 with percentage : 100.0 %\n",
      "Feature max : CL3h value 1.0 with percentage : 100.0 %\n",
      "Feature max : CL4a value 2.0 with percentage : 100.0 %\n",
      "Feature max : CL4b value 2.0 with percentage : 100.0 %\n",
      "Feature max : CL4f value 0.0 with percentage : 100.0 %\n",
      "Feature max : CL5a value 0.0 with percentage : 100.0 %\n",
      "Feature max : CL5c value 1.0 with percentage : 100.0 %\n",
      "data_new shape : (3, 25)\n"
     ]
    }
   ],
   "source": [
    "most_frequent = frequency(data = data_2)\n",
    "percentages = perc(data_2, most_frequent)\n",
    "data_5 = makeTree(data_2, percentages, most_frequent)"
   ]
  },
  {
   "cell_type": "markdown",
   "id": "ab87d8c1-1ad1-405c-9c87-0b0a2817b42c",
   "metadata": {},
   "source": [
    "#### 3rd split : data_3 --> data_6 + data_7"
   ]
  },
  {
   "cell_type": "code",
   "execution_count": 9,
   "id": "e17e5038-e10f-4005-b8fd-85f5e6779dd6",
   "metadata": {},
   "outputs": [
    {
     "name": "stdout",
     "output_type": "stream",
     "text": [
      "Branch can still split\n",
      "Feature max : CL2c value 0.0 with percentage : 97.43589743589743 %\n",
      "data_max shape : (38, 35)\n",
      "data_min shape : (1, 35)\n",
      "Clustering done on 'min' branch, sample is alone\n"
     ]
    }
   ],
   "source": [
    "most_frequent = frequency(data_3)\n",
    "percentages = perc(data_3, most_frequent)\n",
    "data_6, data_7 = makeTree(data_3, percentages, most_frequent)"
   ]
  },
  {
   "cell_type": "markdown",
   "id": "08362a7b-3dd9-43ff-943a-2d685bce02ea",
   "metadata": {},
   "source": [
    "#### 2nd drop : data_4 --> data_8"
   ]
  },
  {
   "cell_type": "code",
   "execution_count": 10,
   "id": "0e45a8e8-0827-41e4-b8d8-48f626b262c2",
   "metadata": {},
   "outputs": [
    {
     "name": "stdout",
     "output_type": "stream",
     "text": [
      "End of this branch\n",
      "Feature max : CL1a value 1.0 with percentage : 100.0 %\n",
      "Feature max : CL1c value 2.0 with percentage : 100.0 %\n",
      "Feature max : CL1d value 2.0 with percentage : 100.0 %\n",
      "Feature max : CL1e value 2.0 with percentage : 100.0 %\n",
      "Feature max : CL1f value 0.0 with percentage : 100.0 %\n",
      "Feature max : CL2a value 1.0 with percentage : 100.0 %\n",
      "Feature max : CL2c value 2.0 with percentage : 100.0 %\n",
      "Feature max : CL2d value 2.0 with percentage : 100.0 %\n",
      "Feature max : CL2e value 2.0 with percentage : 100.0 %\n",
      "Feature max : CL3c value 2.0 with percentage : 100.0 %\n",
      "Feature max : CL3d value 2.0 with percentage : 100.0 %\n",
      "Feature max : CL3e value 2.0 with percentage : 100.0 %\n",
      "Feature max : CL4a value 1.0 with percentage : 100.0 %\n",
      "Feature max : CL5c value 1.0 with percentage : 100.0 %\n",
      "data_new shape : (3, 22)\n"
     ]
    }
   ],
   "source": [
    "most_frequent = frequency(data_4)\n",
    "percentages = perc(data_4, most_frequent)\n",
    "data_8 = makeTree(data_4, percentages, most_frequent)"
   ]
  },
  {
   "cell_type": "markdown",
   "id": "1d57ae34-b443-4ed1-9a62-b986427a9940",
   "metadata": {},
   "source": [
    "#### 4th split : data_5 --> data_9 + data_10"
   ]
  },
  {
   "cell_type": "code",
   "execution_count": 11,
   "id": "1d381aec-0149-4e7f-a568-6a5384d5a0b5",
   "metadata": {},
   "outputs": [
    {
     "name": "stdout",
     "output_type": "stream",
     "text": [
      "Branch can still split\n",
      "Feature max : CL1a value 2.0 with percentage : 66.66666666666667 %\n",
      "data_max shape : (2, 24)\n",
      "data_min shape : (1, 24)\n",
      "Clustering done on 'min' branch, sample is alone\n"
     ]
    }
   ],
   "source": [
    "most_frequent = frequency(data_5)\n",
    "percentages = perc(data_5, most_frequent)\n",
    "data_9, data_10 = makeTree(data_5, percentages, most_frequent)"
   ]
  },
  {
   "cell_type": "markdown",
   "id": "ed510a02-038a-49ab-9320-3f76621d0697",
   "metadata": {},
   "source": [
    "##### Split : data_6 --> data_11 + data_12"
   ]
  },
  {
   "cell_type": "code",
   "execution_count": 12,
   "id": "f9dc8bb0-37ef-4bd0-9846-588f2b574212",
   "metadata": {},
   "outputs": [
    {
     "name": "stdout",
     "output_type": "stream",
     "text": [
      "Branch can still split\n",
      "Feature max : CL3b value 2.0 with percentage : 97.36842105263158 %\n",
      "data_max shape : (37, 34)\n",
      "data_min shape : (1, 34)\n",
      "Clustering done on 'min' branch, sample is alone\n"
     ]
    }
   ],
   "source": [
    "most_frequent = frequency(data_6)\n",
    "percentages = perc(data_6, most_frequent)\n",
    "data_11, data_12 = makeTree(data_6, percentages, most_frequent)"
   ]
  },
  {
   "cell_type": "markdown",
   "id": "f50313d0-7bc3-4c2b-9c0a-3a44ebe70fef",
   "metadata": {},
   "source": [
    "##### Split : data_8 --> data_13 + data_14"
   ]
  },
  {
   "cell_type": "code",
   "execution_count": 13,
   "id": "7a26aeda-b7f4-43b3-ae72-83d78c8c1b92",
   "metadata": {},
   "outputs": [
    {
     "name": "stdout",
     "output_type": "stream",
     "text": [
      "Branch can still split\n",
      "Feature max : CL1b value 1.0 with percentage : 66.66666666666667 %\n",
      "data_max shape : (2, 21)\n",
      "data_min shape : (1, 21)\n",
      "Clustering done on 'min' branch, sample is alone\n"
     ]
    }
   ],
   "source": [
    "most_frequent = frequency(data_8)\n",
    "percentages = perc(data_8, most_frequent)\n",
    "data_13, data_14 = makeTree(data_8, percentages, most_frequent)"
   ]
  },
  {
   "cell_type": "markdown",
   "id": "725dff5b-4a09-416e-b262-5134c59b727a",
   "metadata": {},
   "source": [
    "##### Drop : data_9 --> data_15 "
   ]
  },
  {
   "cell_type": "code",
   "execution_count": 14,
   "id": "65de52d7-a84c-408b-8769-f84f05b170c5",
   "metadata": {},
   "outputs": [
    {
     "name": "stdout",
     "output_type": "stream",
     "text": [
      "End of this branch\n",
      "Feature max : CL1c value 0.0 with percentage : 100.0 %\n",
      "Feature max : CL1d value 0.0 with percentage : 100.0 %\n",
      "Feature max : CL2a value 0.0 with percentage : 100.0 %\n",
      "Feature max : CL2c value 0.0 with percentage : 100.0 %\n",
      "Feature max : CL2d value 0.0 with percentage : 100.0 %\n",
      "Feature max : CL2g value 1.0 with percentage : 100.0 %\n",
      "Feature max : CL3f value 1.0 with percentage : 100.0 %\n",
      "Feature max : CL4c value 0.0 with percentage : 100.0 %\n",
      "Feature max : CL4d value 0.0 with percentage : 100.0 %\n",
      "Feature max : CL4g value 0.0 with percentage : 100.0 %\n",
      "Feature max : CL4j value 2.0 with percentage : 100.0 %\n",
      "Feature max : CL5b value 0.0 with percentage : 100.0 %\n",
      "data_new shape : (2, 12)\n"
     ]
    }
   ],
   "source": [
    "most_frequent = frequency(data_9)\n",
    "percentages = perc(data_9, most_frequent)\n",
    "data_15 = makeTree(data_9, percentages, most_frequent)"
   ]
  },
  {
   "cell_type": "markdown",
   "id": "92ebeec7-4023-4945-8746-7b4f7f678c9f",
   "metadata": {},
   "source": [
    "###### Split : data_11 --> data_16 + data_17 "
   ]
  },
  {
   "cell_type": "code",
   "execution_count": 15,
   "id": "c353e1c2-35b4-4914-bac8-57c0b248e83b",
   "metadata": {},
   "outputs": [
    {
     "name": "stdout",
     "output_type": "stream",
     "text": [
      "Branch can still split\n",
      "Feature max : CL2d value 0.0 with percentage : 89.1891891891892 %\n",
      "data_max shape : (33, 33)\n",
      "data_min shape : (4, 33)\n"
     ]
    }
   ],
   "source": [
    "most_frequent = frequency(data_11)\n",
    "percentages = perc(data_11, most_frequent)\n",
    "data_16, data_17 = makeTree(data_11, percentages, most_frequent)"
   ]
  },
  {
   "cell_type": "markdown",
   "id": "3308ab7d-929e-424d-957b-ff85533029e8",
   "metadata": {},
   "source": [
    "###### Drop : data_13 --> data_18"
   ]
  },
  {
   "cell_type": "code",
   "execution_count": 16,
   "id": "fc668011-6bdf-48a3-89f6-bbaf8de91144",
   "metadata": {},
   "outputs": [
    {
     "name": "stdout",
     "output_type": "stream",
     "text": [
      "End of this branch\n",
      "Feature max : CL2b value 1.0 with percentage : 100.0 %\n",
      "Feature max : CL3b value 1.0 with percentage : 100.0 %\n",
      "Feature max : CL3f value 0.0 with percentage : 100.0 %\n",
      "Feature max : CL4b value 1.0 with percentage : 100.0 %\n",
      "Feature max : CL4g value 1.0 with percentage : 100.0 %\n",
      "Feature max : CL4h value 1.0 with percentage : 100.0 %\n",
      "Feature max : CL4j value 1.0 with percentage : 100.0 %\n",
      "Feature max : CL5a value 0.0 with percentage : 100.0 %\n",
      "data_new shape : (2, 13)\n"
     ]
    }
   ],
   "source": [
    "most_frequent = frequency(data_13)\n",
    "percentages = perc(data_13, most_frequent)\n",
    "data_18 = makeTree(data_13, percentages, most_frequent)"
   ]
  },
  {
   "cell_type": "markdown",
   "id": "8b1d011a-a2c4-4f26-b0f1-d7bf67a67814",
   "metadata": {},
   "source": [
    "###### Split and end : data 15 --> data_19 + data_20"
   ]
  },
  {
   "cell_type": "code",
   "execution_count": 17,
   "id": "9cc771a8-0b42-4ac2-8704-c2ca3fe59a3c",
   "metadata": {},
   "outputs": [
    {
     "name": "stdout",
     "output_type": "stream",
     "text": [
      "Branch can still split\n",
      "Feature max : CL1e value 0.0 with percentage : 50.0 %\n",
      "data_max shape : (1, 11)\n",
      "data_min shape : (1, 11)\n",
      "Clustering done on 'min' branch, sample is alone\n",
      "Clustering done on 'max' branch, sample is alone\n"
     ]
    }
   ],
   "source": [
    "most_frequent = frequency(data_15)\n",
    "percentages = perc(data_15, most_frequent)\n",
    "data_19,  data_20 = makeTree(data_15, percentages, most_frequent)"
   ]
  },
  {
   "cell_type": "markdown",
   "id": "c731cfc9-82a1-4708-87d4-af553a1430c4",
   "metadata": {},
   "source": [
    "## Split : data_16 --> data_21 + data_22"
   ]
  },
  {
   "cell_type": "code",
   "execution_count": 18,
   "id": "855375bd-2026-46a8-8d34-f773cfac4ae8",
   "metadata": {},
   "outputs": [
    {
     "name": "stdout",
     "output_type": "stream",
     "text": [
      "Branch can still split\n",
      "Feature max : CL2g value 0.0 with percentage : 93.93939393939394 %\n",
      "data_max shape : (31, 32)\n",
      "data_min shape : (2, 32)\n"
     ]
    }
   ],
   "source": [
    "most_frequent = frequency(data_16)\n",
    "percentages = perc(data_16, most_frequent)\n",
    "data_21, data_22 = makeTree(data_16, percentages, most_frequent)"
   ]
  },
  {
   "cell_type": "markdown",
   "id": "058d0fc9-08c5-42a0-9d84-02473e9b4229",
   "metadata": {},
   "source": [
    "## Drop : data_17 --> data_23"
   ]
  },
  {
   "cell_type": "code",
   "execution_count": 19,
   "id": "d5daef6f-ad00-4414-9462-da26ae5397c1",
   "metadata": {},
   "outputs": [
    {
     "name": "stdout",
     "output_type": "stream",
     "text": [
      "End of this branch\n",
      "Feature max : CL1a value 2.0 with percentage : 100.0 %\n",
      "Feature max : CL2g value 1.0 with percentage : 100.0 %\n",
      "Feature max : CL3i value 2.0 with percentage : 100.0 %\n",
      "Feature max : CL4a value 2.0 with percentage : 100.0 %\n",
      "Feature max : CL5c value 1.0 with percentage : 100.0 %\n",
      "data_new shape : (4, 28)\n"
     ]
    }
   ],
   "source": [
    "most_frequent = frequency(data_17)\n",
    "percentages = perc(data_17, most_frequent)\n",
    "data_23 = makeTree(data_17, percentages, most_frequent)"
   ]
  },
  {
   "cell_type": "markdown",
   "id": "c0ed171a-58c1-4e9d-8c86-2fb4514fcd77",
   "metadata": {},
   "source": [
    "## Split and end : data_18 --> data_24 + data_25"
   ]
  },
  {
   "cell_type": "code",
   "execution_count": 20,
   "id": "1c93a607-b704-401e-998d-34b7e61de28c",
   "metadata": {},
   "outputs": [
    {
     "name": "stdout",
     "output_type": "stream",
     "text": [
      "Branch can still split\n",
      "Feature max : CL1g value 0.0 with percentage : 50.0 %\n",
      "data_max shape : (1, 12)\n",
      "data_min shape : (1, 12)\n",
      "Clustering done on 'min' branch, sample is alone\n",
      "Clustering done on 'max' branch, sample is alone\n"
     ]
    }
   ],
   "source": [
    "most_frequent = frequency(data_18)\n",
    "percentages = perc(data_18, most_frequent)\n",
    "data_24, data_25 = makeTree(data_18, percentages, most_frequent)"
   ]
  },
  {
   "cell_type": "markdown",
   "id": "19d0ff6a-6910-48b1-baf6-e7ba5edbe6f5",
   "metadata": {},
   "source": [
    "### Split : data_21 --> data_26 + data_27"
   ]
  },
  {
   "cell_type": "code",
   "execution_count": 21,
   "id": "ee4128a0-c5b1-452d-9636-dd66c937f960",
   "metadata": {},
   "outputs": [
    {
     "name": "stdout",
     "output_type": "stream",
     "text": [
      "Branch can still split\n",
      "Feature max : CL2a value 0.0 with percentage : 93.54838709677419 %\n",
      "data_max shape : (29, 31)\n",
      "data_min shape : (2, 31)\n"
     ]
    }
   ],
   "source": [
    "most_frequent = frequency(data_21)\n",
    "percentages = perc(data_21, most_frequent)\n",
    "data_26, data_27 = makeTree(data_21, percentages, most_frequent)"
   ]
  },
  {
   "cell_type": "markdown",
   "id": "d3935313-c5fb-43c6-931b-14db07401228",
   "metadata": {},
   "source": [
    "### Drop : data_22 --> data_28"
   ]
  },
  {
   "cell_type": "code",
   "execution_count": 22,
   "id": "937b78a2-ab86-40b5-9ff4-e7f7ba1e0ae7",
   "metadata": {},
   "outputs": [
    {
     "name": "stdout",
     "output_type": "stream",
     "text": [
      "End of this branch\n",
      "Feature max : CL1a value 2.0 with percentage : 100.0 %\n",
      "Feature max : CL1b value 2.0 with percentage : 100.0 %\n",
      "Feature max : CL1e value 2.0 with percentage : 100.0 %\n",
      "Feature max : CL1f value 1.0 with percentage : 100.0 %\n",
      "Feature max : CL1g value 2.0 with percentage : 100.0 %\n",
      "Feature max : CL1h value 2.0 with percentage : 100.0 %\n",
      "Feature max : CL2b value 2.0 with percentage : 100.0 %\n",
      "Feature max : CL2e value 2.0 with percentage : 100.0 %\n",
      "Feature max : CL3d value 2.0 with percentage : 100.0 %\n",
      "Feature max : CL3e value 2.0 with percentage : 100.0 %\n",
      "Feature max : CL3g value 2.0 with percentage : 100.0 %\n",
      "Feature max : CL3h value 2.0 with percentage : 100.0 %\n",
      "Feature max : CL3i value 2.0 with percentage : 100.0 %\n",
      "Feature max : CL4a value 2.0 with percentage : 100.0 %\n",
      "Feature max : CL4b value 2.0 with percentage : 100.0 %\n",
      "Feature max : CL4c value 0.0 with percentage : 100.0 %\n",
      "Feature max : CL4f value 0.0 with percentage : 100.0 %\n",
      "Feature max : CL4g value 1.0 with percentage : 100.0 %\n",
      "Feature max : CL4h value 2.0 with percentage : 100.0 %\n",
      "Feature max : CL4i value 2.0 with percentage : 100.0 %\n",
      "Feature max : CL4j value 0.0 with percentage : 100.0 %\n",
      "Feature max : CL5a value 0.0 with percentage : 100.0 %\n",
      "Feature max : CL5b value 1.0 with percentage : 100.0 %\n",
      "Feature max : CL5c value 1.0 with percentage : 100.0 %\n",
      "data_new shape : (2, 8)\n"
     ]
    }
   ],
   "source": [
    "most_frequent = frequency(data_22)\n",
    "percentages = perc(data_22, most_frequent)\n",
    "data_28 = makeTree(data_22, percentages, most_frequent)"
   ]
  },
  {
   "cell_type": "markdown",
   "id": "014fd878-a06f-467f-9937-80e4bc33cf0f",
   "metadata": {},
   "source": [
    "### Split : data_23 --> data_29 + data_30 "
   ]
  },
  {
   "cell_type": "code",
   "execution_count": 23,
   "id": "99c15581-597e-49f6-a316-06648f81401f",
   "metadata": {},
   "outputs": [
    {
     "name": "stdout",
     "output_type": "stream",
     "text": [
      "Branch can still split\n",
      "Feature max : CL1b value 2.0 with percentage : 75.0 %\n",
      "data_max shape : (3, 27)\n",
      "data_min shape : (1, 27)\n",
      "Clustering done on 'min' branch, sample is alone\n"
     ]
    }
   ],
   "source": [
    "most_frequent = frequency(data_23)\n",
    "percentages = perc(data_23, most_frequent)\n",
    "data_29, data_30 = makeTree(data_23, percentages, most_frequent)"
   ]
  },
  {
   "cell_type": "markdown",
   "id": "53d7dd09-72ed-4fdc-8b6d-e0bfb0924b54",
   "metadata": {},
   "source": [
    "#### Split : data_26 --> data_31 + data_32"
   ]
  },
  {
   "cell_type": "code",
   "execution_count": 24,
   "id": "32665b34-4e53-46f2-8f61-244d302a4d34",
   "metadata": {},
   "outputs": [
    {
     "name": "stdout",
     "output_type": "stream",
     "text": [
      "Branch can still split\n",
      "Feature max : CL1f value 0.0 with percentage : 86.20689655172414 %\n",
      "data_max shape : (25, 30)\n",
      "data_min shape : (4, 30)\n"
     ]
    }
   ],
   "source": [
    "most_frequent = frequency(data_26)\n",
    "percentages = perc(data_26, most_frequent)\n",
    "data_31, data_32 = makeTree(data_26, percentages, most_frequent)"
   ]
  },
  {
   "cell_type": "markdown",
   "id": "eebdc0b8-45c0-42b7-825f-2a819467341f",
   "metadata": {},
   "source": [
    "#### Drop : data_27 --> data_33 "
   ]
  },
  {
   "cell_type": "code",
   "execution_count": 25,
   "id": "640b8121-78ac-46ea-9b60-6de7696ab4b7",
   "metadata": {},
   "outputs": [
    {
     "name": "stdout",
     "output_type": "stream",
     "text": [
      "End of this branch\n",
      "Feature max : CL1a value 2.0 with percentage : 100.0 %\n",
      "Feature max : CL1b value 2.0 with percentage : 100.0 %\n",
      "Feature max : CL1c value 0.0 with percentage : 100.0 %\n",
      "Feature max : CL1e value 1.0 with percentage : 100.0 %\n",
      "Feature max : CL1f value 0.0 with percentage : 100.0 %\n",
      "Feature max : CL1g value 1.0 with percentage : 100.0 %\n",
      "Feature max : CL1h value 2.0 with percentage : 100.0 %\n",
      "Feature max : CL2b value 2.0 with percentage : 100.0 %\n",
      "Feature max : CL2e value 1.0 with percentage : 100.0 %\n",
      "Feature max : CL2h value 1.0 with percentage : 100.0 %\n",
      "Feature max : CL3d value 1.0 with percentage : 100.0 %\n",
      "Feature max : CL3e value 1.0 with percentage : 100.0 %\n",
      "Feature max : CL3i value 2.0 with percentage : 100.0 %\n",
      "Feature max : CL4a value 2.0 with percentage : 100.0 %\n",
      "Feature max : CL4b value 2.0 with percentage : 100.0 %\n",
      "Feature max : CL4c value 0.0 with percentage : 100.0 %\n",
      "Feature max : CL4d value 0.0 with percentage : 100.0 %\n",
      "Feature max : CL4e value 1.0 with percentage : 100.0 %\n",
      "Feature max : CL4f value 0.0 with percentage : 100.0 %\n",
      "Feature max : CL4g value 1.0 with percentage : 100.0 %\n",
      "Feature max : CL4i value 0.0 with percentage : 100.0 %\n",
      "Feature max : CL4j value 1.0 with percentage : 100.0 %\n",
      "Feature max : CL5a value 0.0 with percentage : 100.0 %\n",
      "Feature max : CL5b value 1.0 with percentage : 100.0 %\n",
      "data_new shape : (2, 7)\n"
     ]
    }
   ],
   "source": [
    "most_frequent = frequency(data_27)\n",
    "percentages = perc(data_27, most_frequent)\n",
    "data_33 = makeTree(data_27, percentages, most_frequent)"
   ]
  },
  {
   "cell_type": "markdown",
   "id": "43f68b04-b8a7-4acf-8ffc-4ca709d38b94",
   "metadata": {},
   "source": [
    "#### Split and end : data_28 --> data_34 + data_35"
   ]
  },
  {
   "cell_type": "code",
   "execution_count": 26,
   "id": "c6f20623-72fc-44f2-8870-5e7b2cd1b25d",
   "metadata": {},
   "outputs": [
    {
     "name": "stdout",
     "output_type": "stream",
     "text": [
      "Branch can still split\n",
      "Feature max : CL1c value 0.0 with percentage : 50.0 %\n",
      "data_max shape : (1, 7)\n",
      "data_min shape : (1, 7)\n",
      "Clustering done on 'min' branch, sample is alone\n",
      "Clustering done on 'max' branch, sample is alone\n"
     ]
    }
   ],
   "source": [
    "most_frequent = frequency(data_28)\n",
    "percentages = perc(data_28, most_frequent)\n",
    "data_34, data_35 = makeTree(data_28, percentages, most_frequent)"
   ]
  },
  {
   "cell_type": "markdown",
   "id": "3b6680da-0221-4045-a4b7-22063c1abdce",
   "metadata": {},
   "source": [
    "#### Split : data_29 --> data_36 + data_37"
   ]
  },
  {
   "cell_type": "code",
   "execution_count": 27,
   "id": "17d4c32e-4c98-4baf-9e1b-1f68e4fdc416",
   "metadata": {},
   "outputs": [
    {
     "name": "stdout",
     "output_type": "stream",
     "text": [
      "Branch can still split\n",
      "Feature max : CL1c value 1.0 with percentage : 66.66666666666667 %\n",
      "data_max shape : (2, 26)\n",
      "data_min shape : (1, 26)\n",
      "Clustering done on 'min' branch, sample is alone\n"
     ]
    }
   ],
   "source": [
    "most_frequent = frequency(data_29)\n",
    "percentages = perc(data_29, most_frequent)\n",
    "data_36, data_37 = makeTree(data_29, percentages, most_frequent)"
   ]
  },
  {
   "cell_type": "markdown",
   "id": "451b0603-8021-452a-bf9b-c0ad871e1a95",
   "metadata": {},
   "source": [
    "##### Split : data_31 --> data_38 + data_39"
   ]
  },
  {
   "cell_type": "code",
   "execution_count": 28,
   "id": "345fe812-939c-40fa-b274-190ff93131cd",
   "metadata": {},
   "outputs": [
    {
     "name": "stdout",
     "output_type": "stream",
     "text": [
      "Branch can still split\n",
      "Feature max : CL4c value 0.0 with percentage : 88.0 %\n",
      "data_max shape : (22, 29)\n",
      "data_min shape : (3, 29)\n"
     ]
    }
   ],
   "source": [
    "most_frequent = frequency(data_31)\n",
    "percentages = perc(data_31, most_frequent)\n",
    "data_38, data_39 = makeTree(data_31, percentages, most_frequent)"
   ]
  },
  {
   "cell_type": "markdown",
   "id": "25a6e142-b030-49e6-8b7a-f895b0e7d26e",
   "metadata": {},
   "source": [
    "##### Drop : data_32 --> data_40"
   ]
  },
  {
   "cell_type": "code",
   "execution_count": 29,
   "id": "b2b81395-87a7-46ac-9aec-02c53719041b",
   "metadata": {},
   "outputs": [
    {
     "name": "stdout",
     "output_type": "stream",
     "text": [
      "End of this branch\n",
      "Feature max : CL2e value 0.0 with percentage : 100.0 %\n",
      "Feature max : CL3c value 2.0 with percentage : 100.0 %\n",
      "Feature max : CL3d value 2.0 with percentage : 100.0 %\n",
      "Feature max : CL3e value 2.0 with percentage : 100.0 %\n",
      "Feature max : CL3f value 2.0 with percentage : 100.0 %\n",
      "Feature max : CL3g value 2.0 with percentage : 100.0 %\n",
      "Feature max : CL3h value 2.0 with percentage : 100.0 %\n",
      "Feature max : CL3i value 2.0 with percentage : 100.0 %\n",
      "Feature max : CL4f value 1.0 with percentage : 100.0 %\n",
      "Feature max : CL5c value 1.0 with percentage : 100.0 %\n",
      "data_new shape : (4, 20)\n"
     ]
    }
   ],
   "source": [
    "most_frequent = frequency(data_32)\n",
    "percentages = perc(data_32, most_frequent)\n",
    "data_40 = makeTree(data_32, percentages, most_frequent)"
   ]
  },
  {
   "cell_type": "markdown",
   "id": "c6bc7eb2-48cd-4f3c-8dc7-d05e4adfcb5b",
   "metadata": {},
   "source": [
    "##### Split and end : data_33 --> data_41 + data_42"
   ]
  },
  {
   "cell_type": "code",
   "execution_count": 30,
   "id": "493bfd7e-473d-4a74-86dd-b5704e7a3747",
   "metadata": {},
   "outputs": [
    {
     "name": "stdout",
     "output_type": "stream",
     "text": [
      "Branch can still split\n",
      "Feature max : CL1d value 0.0 with percentage : 50.0 %\n",
      "data_max shape : (1, 6)\n",
      "data_min shape : (1, 6)\n",
      "Clustering done on 'min' branch, sample is alone\n",
      "Clustering done on 'max' branch, sample is alone\n"
     ]
    }
   ],
   "source": [
    "most_frequent = frequency(data_33)\n",
    "percentages = perc(data_33, most_frequent)\n",
    "data_41, data_42 = makeTree(data_33, percentages, most_frequent)"
   ]
  },
  {
   "cell_type": "markdown",
   "id": "dc11e454-41fe-4acf-95fd-f6e9d1dc0317",
   "metadata": {},
   "source": [
    "##### Drop : data_36 --> data_43"
   ]
  },
  {
   "cell_type": "code",
   "execution_count": 31,
   "id": "42b8e7d8-066d-44a2-a5a2-727a12b20eae",
   "metadata": {},
   "outputs": [
    {
     "name": "stdout",
     "output_type": "stream",
     "text": [
      "End of this branch\n",
      "Feature max : CL1e value 2.0 with percentage : 100.0 %\n",
      "Feature max : CL1f value 1.0 with percentage : 100.0 %\n",
      "Feature max : CL1g value 2.0 with percentage : 100.0 %\n",
      "Feature max : CL3e value 2.0 with percentage : 100.0 %\n",
      "Feature max : CL3f value 2.0 with percentage : 100.0 %\n",
      "Feature max : CL3h value 2.0 with percentage : 100.0 %\n",
      "Feature max : CL4b value 2.0 with percentage : 100.0 %\n",
      "Feature max : CL4d value 2.0 with percentage : 100.0 %\n",
      "Feature max : CL4e value 2.0 with percentage : 100.0 %\n",
      "Feature max : CL4f value 1.0 with percentage : 100.0 %\n",
      "Feature max : CL4g value 2.0 with percentage : 100.0 %\n",
      "Feature max : CL4h value 2.0 with percentage : 100.0 %\n",
      "Feature max : CL5a value 1.0 with percentage : 100.0 %\n",
      "Feature max : CL5b value 2.0 with percentage : 100.0 %\n",
      "data_new shape : (2, 12)\n"
     ]
    }
   ],
   "source": [
    "most_frequent = frequency(data_36)\n",
    "percentages = perc(data_36, most_frequent)\n",
    "data_43 = makeTree(data_36, percentages, most_frequent)"
   ]
  },
  {
   "cell_type": "markdown",
   "id": "8408723d-160b-4954-be88-1aec8bc5cbb6",
   "metadata": {},
   "source": [
    "###### Drop : data_38 --> data_44"
   ]
  },
  {
   "cell_type": "code",
   "execution_count": 32,
   "id": "2a5ed8ea-404d-4eb2-964f-5dd32a50445b",
   "metadata": {},
   "outputs": [
    {
     "name": "stdout",
     "output_type": "stream",
     "text": [
      "End of this branch\n",
      "Feature max : CL4f value 0.0 with percentage : 100.0 %\n",
      "data_new shape : (22, 28)\n"
     ]
    }
   ],
   "source": [
    "most_frequent = frequency(data_38)\n",
    "percentages = perc(data_38, most_frequent)\n",
    "data_44 = makeTree(data_38, percentages, most_frequent)"
   ]
  },
  {
   "cell_type": "markdown",
   "id": "e82fe33c-c9d1-4e91-a169-866a3a002bfa",
   "metadata": {},
   "source": [
    "###### Drop : data_39 --> data_45"
   ]
  },
  {
   "cell_type": "code",
   "execution_count": 33,
   "id": "d6ed8d15-60b0-4fe9-885a-ad3a2eb33a66",
   "metadata": {},
   "outputs": [
    {
     "name": "stdout",
     "output_type": "stream",
     "text": [
      "End of this branch\n",
      "Feature max : CL1b value 2.0 with percentage : 100.0 %\n",
      "Feature max : CL1c value 0.0 with percentage : 100.0 %\n",
      "Feature max : CL1d value 0.0 with percentage : 100.0 %\n",
      "Feature max : CL1g value 0.0 with percentage : 100.0 %\n",
      "Feature max : CL3c value 2.0 with percentage : 100.0 %\n",
      "Feature max : CL3d value 2.0 with percentage : 100.0 %\n",
      "Feature max : CL3e value 2.0 with percentage : 100.0 %\n",
      "Feature max : CL3f value 2.0 with percentage : 100.0 %\n",
      "Feature max : CL3g value 2.0 with percentage : 100.0 %\n",
      "Feature max : CL3h value 2.0 with percentage : 100.0 %\n",
      "Feature max : CL3i value 2.0 with percentage : 100.0 %\n",
      "Feature max : CL4d value 1.0 with percentage : 100.0 %\n",
      "Feature max : CL4f value 1.0 with percentage : 100.0 %\n",
      "Feature max : CL4i value 1.0 with percentage : 100.0 %\n",
      "Feature max : CL4j value 1.0 with percentage : 100.0 %\n",
      "data_new shape : (3, 14)\n"
     ]
    }
   ],
   "source": [
    "most_frequent = frequency(data_39)\n",
    "percentages = perc(data_39, most_frequent)\n",
    "data_45 = makeTree(data_39, percentages, most_frequent)"
   ]
  },
  {
   "cell_type": "markdown",
   "id": "00a70f2a-d472-4a60-b933-6f743750cef8",
   "metadata": {},
   "source": [
    "###### Split : data_40 --> data_46 + data_47"
   ]
  },
  {
   "cell_type": "code",
   "execution_count": 34,
   "id": "29f6669c-ede1-49b5-8a02-1bc5dc61db92",
   "metadata": {},
   "outputs": [
    {
     "name": "stdout",
     "output_type": "stream",
     "text": [
      "Branch can still split\n",
      "Feature max : CL1a value 2.0 with percentage : 75.0 %\n",
      "data_max shape : (3, 19)\n",
      "data_min shape : (1, 19)\n",
      "Clustering done on 'min' branch, sample is alone\n"
     ]
    }
   ],
   "source": [
    "most_frequent = frequency(data_40)\n",
    "percentages = perc(data_40, most_frequent)\n",
    "data_46, data_47 = makeTree(data_40, percentages, most_frequent)"
   ]
  },
  {
   "cell_type": "markdown",
   "id": "8dfdf0bf-35f0-4dbd-89b9-fccc717d05c6",
   "metadata": {},
   "source": [
    "###### Split and end : data_43 --> data_48 + data_49"
   ]
  },
  {
   "cell_type": "code",
   "execution_count": 35,
   "id": "b92f24fe-d24e-4303-a91c-78f4ff3d9575",
   "metadata": {},
   "outputs": [
    {
     "name": "stdout",
     "output_type": "stream",
     "text": [
      "Branch can still split\n",
      "Feature max : CL1d value 0.0 with percentage : 50.0 %\n",
      "data_max shape : (1, 11)\n",
      "data_min shape : (1, 11)\n",
      "Clustering done on 'min' branch, sample is alone\n",
      "Clustering done on 'max' branch, sample is alone\n"
     ]
    }
   ],
   "source": [
    "most_frequent = frequency(data_43)\n",
    "percentages = perc(data_43, most_frequent)\n",
    "data_48, data_49 = makeTree(data_43, percentages, most_frequent)"
   ]
  },
  {
   "cell_type": "markdown",
   "id": "1580fe9f-736e-4305-8e61-92b59ed3dbe0",
   "metadata": {},
   "source": [
    "## Split : data_44 --> data_50 + data_51"
   ]
  },
  {
   "cell_type": "code",
   "execution_count": 36,
   "id": "758403f3-c226-409f-9f8a-dcf67c15abe0",
   "metadata": {},
   "outputs": [
    {
     "name": "stdout",
     "output_type": "stream",
     "text": [
      "Branch can still split\n",
      "Feature max : CL1a value 2.0 with percentage : 90.9090909090909 %\n",
      "data_max shape : (20, 27)\n",
      "data_min shape : (2, 27)\n"
     ]
    }
   ],
   "source": [
    "most_frequent = frequency(data_44)\n",
    "percentages = perc(data_44, most_frequent)\n",
    "data_50, data_51 = makeTree(data_44, percentages, most_frequent)"
   ]
  },
  {
   "cell_type": "markdown",
   "id": "cebee016-cd81-4320-b1ce-186c5e1325d7",
   "metadata": {},
   "source": [
    "## Split : data_45 --> data_52 + data_53"
   ]
  },
  {
   "cell_type": "code",
   "execution_count": 37,
   "id": "5476a4a6-c950-4bd0-9ca5-aae0dc36c944",
   "metadata": {},
   "outputs": [
    {
     "name": "stdout",
     "output_type": "stream",
     "text": [
      "Branch can still split\n",
      "Feature max : CL1a value 1.0 with percentage : 66.66666666666667 %\n",
      "data_max shape : (2, 13)\n",
      "data_min shape : (1, 13)\n",
      "Clustering done on 'min' branch, sample is alone\n"
     ]
    }
   ],
   "source": [
    "most_frequent = frequency(data_45)\n",
    "percentages = perc(data_45, most_frequent)\n",
    "data_52, data_53 = makeTree(data_45, percentages, most_frequent)"
   ]
  },
  {
   "cell_type": "markdown",
   "id": "6aae40bc-5db8-4fd8-af68-a3f18e30e382",
   "metadata": {},
   "source": [
    "## Drop : data_46 --> data_54"
   ]
  },
  {
   "cell_type": "code",
   "execution_count": 38,
   "id": "4f13e005-7251-4e00-91ec-feced83a9480",
   "metadata": {},
   "outputs": [
    {
     "name": "stdout",
     "output_type": "stream",
     "text": [
      "End of this branch\n",
      "Feature max : CL4a value 2.0 with percentage : 100.0 %\n",
      "Feature max : CL4b value 2.0 with percentage : 100.0 %\n",
      "Feature max : CL5a value 0.0 with percentage : 100.0 %\n",
      "data_new shape : (3, 16)\n"
     ]
    }
   ],
   "source": [
    "most_frequent = frequency(data_46)\n",
    "percentages = perc(data_46, most_frequent)\n",
    "data_54 = makeTree(data_46, percentages, most_frequent)"
   ]
  },
  {
   "cell_type": "markdown",
   "id": "bf6a241e-d0ca-401c-9b91-24e44214835f",
   "metadata": {},
   "source": [
    "### data_50 --> data_55 + data_56"
   ]
  },
  {
   "cell_type": "code",
   "execution_count": 39,
   "id": "ed2ba842-45b2-4c5a-bf25-891205512f51",
   "metadata": {},
   "outputs": [
    {
     "name": "stdout",
     "output_type": "stream",
     "text": [
      "Branch can still split\n",
      "Feature max : CL5a value 0.0 with percentage : 95.0 %\n",
      "data_max shape : (19, 26)\n",
      "data_min shape : (1, 26)\n",
      "Clustering done on 'min' branch, sample is alone\n"
     ]
    }
   ],
   "source": [
    "most_frequent = frequency(data_50)\n",
    "percentages = perc(data_50, most_frequent)\n",
    "data_55, data_56 = makeTree(data_50, percentages, most_frequent)"
   ]
  },
  {
   "cell_type": "markdown",
   "id": "fd071b55-b049-4f46-9c73-48f718d7fb1f",
   "metadata": {},
   "source": [
    "### Drop : data_51 --> data_57"
   ]
  },
  {
   "cell_type": "code",
   "execution_count": 40,
   "id": "33862a7f-770e-4b1c-8239-7ee5673c70d0",
   "metadata": {},
   "outputs": [
    {
     "name": "stdout",
     "output_type": "stream",
     "text": [
      "End of this branch\n",
      "Feature max : CL1c value 0.0 with percentage : 100.0 %\n",
      "Feature max : CL1d value 0.0 with percentage : 100.0 %\n",
      "Feature max : CL1e value 0.0 with percentage : 100.0 %\n",
      "Feature max : CL2b value 0.0 with percentage : 100.0 %\n",
      "Feature max : CL2e value 0.0 with percentage : 100.0 %\n",
      "Feature max : CL2h value 0.0 with percentage : 100.0 %\n",
      "Feature max : CL3c value 1.0 with percentage : 100.0 %\n",
      "Feature max : CL3e value 1.0 with percentage : 100.0 %\n",
      "Feature max : CL3f value 1.0 with percentage : 100.0 %\n",
      "Feature max : CL3g value 1.0 with percentage : 100.0 %\n",
      "Feature max : CL3h value 1.0 with percentage : 100.0 %\n",
      "Feature max : CL3i value 1.0 with percentage : 100.0 %\n",
      "Feature max : CL4a value 2.0 with percentage : 100.0 %\n",
      "Feature max : CL4b value 2.0 with percentage : 100.0 %\n",
      "Feature max : CL4d value 0.0 with percentage : 100.0 %\n",
      "Feature max : CL4e value 0.0 with percentage : 100.0 %\n",
      "Feature max : CL4g value 0.0 with percentage : 100.0 %\n",
      "Feature max : CL4h value 0.0 with percentage : 100.0 %\n",
      "Feature max : CL4j value 1.0 with percentage : 100.0 %\n",
      "Feature max : CL5c value 1.0 with percentage : 100.0 %\n",
      "data_new shape : (2, 7)\n"
     ]
    }
   ],
   "source": [
    "most_frequent = frequency(data_51)\n",
    "percentages = perc(data_51, most_frequent)\n",
    "data_57 = makeTree(data_51, percentages, most_frequent)"
   ]
  },
  {
   "cell_type": "markdown",
   "id": "0db9e45b-302c-4d02-953e-e8ac468529e7",
   "metadata": {},
   "source": [
    "### Drop : data_52 --> data_58"
   ]
  },
  {
   "cell_type": "code",
   "execution_count": 41,
   "id": "8764ee1a-fd59-455e-a0d6-5d723572864c",
   "metadata": {},
   "outputs": [
    {
     "name": "stdout",
     "output_type": "stream",
     "text": [
      "End of this branch\n",
      "Feature max : CL1h value 1.0 with percentage : 100.0 %\n",
      "Feature max : CL5c value 1.0 with percentage : 100.0 %\n",
      "data_new shape : (2, 11)\n"
     ]
    }
   ],
   "source": [
    "most_frequent = frequency(data_52)\n",
    "percentages = perc(data_52, most_frequent)\n",
    "data_58 = makeTree(data_52, percentages, most_frequent)"
   ]
  },
  {
   "cell_type": "markdown",
   "id": "42f3ca7b-6284-44ac-95cf-8ed11770d2f4",
   "metadata": {},
   "source": [
    "### Split : data_54 --> data_59 + data_60"
   ]
  },
  {
   "cell_type": "code",
   "execution_count": 42,
   "id": "7f125510-fd38-48c1-8eea-7b6cc8d33462",
   "metadata": {},
   "outputs": [
    {
     "name": "stdout",
     "output_type": "stream",
     "text": [
      "Branch can still split\n",
      "Feature max : CL1b value 2.0 with percentage : 66.66666666666667 %\n",
      "data_max shape : (2, 15)\n",
      "data_min shape : (1, 15)\n",
      "Clustering done on 'min' branch, sample is alone\n"
     ]
    }
   ],
   "source": [
    "most_frequent = frequency(data_54)\n",
    "percentages = perc(data_54, most_frequent)\n",
    "data_59, data_60 = makeTree(data_54, percentages, most_frequent)"
   ]
  },
  {
   "cell_type": "markdown",
   "id": "62f0f6c9-992c-4a4c-aea8-0a690cf3c0e3",
   "metadata": {},
   "source": [
    "#### Split : data_55 --> data_61 + data_62"
   ]
  },
  {
   "cell_type": "code",
   "execution_count": 43,
   "id": "93fa6a6f-a09f-481f-b647-67a747fa4b23",
   "metadata": {},
   "outputs": [
    {
     "name": "stdout",
     "output_type": "stream",
     "text": [
      "Branch can still split\n",
      "Feature max : CL2e value 0.0 with percentage : 84.21052631578948 %\n",
      "data_max shape : (16, 25)\n",
      "data_min shape : (3, 25)\n"
     ]
    }
   ],
   "source": [
    "most_frequent = frequency(data_55)\n",
    "percentages = perc(data_55, most_frequent)\n",
    "data_61, data_62 = makeTree(data_55, percentages, most_frequent)"
   ]
  },
  {
   "cell_type": "markdown",
   "id": "82852bf1-a87a-4d85-90b0-e103d2244fc7",
   "metadata": {},
   "source": [
    "#### Split and end : data_57 --> data_63 + data_64"
   ]
  },
  {
   "cell_type": "code",
   "execution_count": 44,
   "id": "f934f15c-9237-412b-995d-0b58465032c7",
   "metadata": {},
   "outputs": [
    {
     "name": "stdout",
     "output_type": "stream",
     "text": [
      "Branch can still split\n",
      "Feature max : CL1b value 1.0 with percentage : 50.0 %\n",
      "data_max shape : (1, 6)\n",
      "data_min shape : (1, 6)\n",
      "Clustering done on 'min' branch, sample is alone\n",
      "Clustering done on 'max' branch, sample is alone\n"
     ]
    }
   ],
   "source": [
    "most_frequent = frequency(data_57)\n",
    "percentages = perc(data_57, most_frequent)\n",
    "data_63, data_64 = makeTree(data_57, percentages, most_frequent)"
   ]
  },
  {
   "cell_type": "markdown",
   "id": "480b51ca-daaf-46f2-9dc3-6292423e1e8d",
   "metadata": {
    "tags": []
   },
   "source": [
    "#### Split and end : data_58 --> data_65 + data_66 "
   ]
  },
  {
   "cell_type": "code",
   "execution_count": 45,
   "id": "79e77f8f-bf5a-447e-a633-89cb2e4cb008",
   "metadata": {},
   "outputs": [
    {
     "name": "stdout",
     "output_type": "stream",
     "text": [
      "Branch can still split\n",
      "Feature max : CL1e value 1.0 with percentage : 50.0 %\n",
      "data_max shape : (1, 10)\n",
      "data_min shape : (1, 10)\n",
      "Clustering done on 'min' branch, sample is alone\n",
      "Clustering done on 'max' branch, sample is alone\n"
     ]
    }
   ],
   "source": [
    "most_frequent = frequency(data_58)\n",
    "percentages = perc(data_58, most_frequent)\n",
    "data_65, data_66 = makeTree(data_58, percentages, most_frequent)"
   ]
  },
  {
   "cell_type": "markdown",
   "id": "a53b934d-6524-48d2-8a23-6fb60186bbe2",
   "metadata": {},
   "source": [
    "#### Drop : data_59 --> data_67"
   ]
  },
  {
   "cell_type": "code",
   "execution_count": 46,
   "id": "9d8442e8-74cc-4330-aa0c-218da3157a1c",
   "metadata": {},
   "outputs": [
    {
     "name": "stdout",
     "output_type": "stream",
     "text": [
      "End of this branch\n",
      "Feature max : CL1c value 0.0 with percentage : 100.0 %\n",
      "Feature max : CL1d value 1.0 with percentage : 100.0 %\n",
      "Feature max : CL1e value 1.0 with percentage : 100.0 %\n",
      "Feature max : CL4c value 0.0 with percentage : 100.0 %\n",
      "Feature max : CL4d value 1.0 with percentage : 100.0 %\n",
      "Feature max : CL5b value 1.0 with percentage : 100.0 %\n",
      "data_new shape : (2, 9)\n"
     ]
    }
   ],
   "source": [
    "most_frequent = frequency(data_59)\n",
    "percentages = perc(data_59, most_frequent)\n",
    "data_67 = makeTree(data_59, percentages, most_frequent)"
   ]
  },
  {
   "cell_type": "markdown",
   "id": "e8b674cf-833b-49ae-9169-f5e25029cbaf",
   "metadata": {},
   "source": [
    "##### Split : data_61 --> data_68 + data_69"
   ]
  },
  {
   "cell_type": "code",
   "execution_count": 47,
   "id": "c3e624cd-b5ac-4ac7-a5f5-3b36b5bf7c13",
   "metadata": {},
   "outputs": [
    {
     "name": "stdout",
     "output_type": "stream",
     "text": [
      "Branch can still split\n",
      "Feature max : CL5c value 1.0 with percentage : 87.5 %\n",
      "data_max shape : (14, 24)\n",
      "data_min shape : (2, 24)\n"
     ]
    }
   ],
   "source": [
    "most_frequent = frequency(data_61)\n",
    "percentages = perc(data_61, most_frequent)\n",
    "data_68, data_69 = makeTree(data_61, percentages, most_frequent)"
   ]
  },
  {
   "cell_type": "markdown",
   "id": "9633d126-3ac9-4cf9-aaa6-fed900f4df74",
   "metadata": {},
   "source": [
    "##### Drop : data_62 --> data_70"
   ]
  },
  {
   "cell_type": "code",
   "execution_count": 48,
   "id": "8b18a638-8782-4632-84f7-ee5916d78827",
   "metadata": {},
   "outputs": [
    {
     "name": "stdout",
     "output_type": "stream",
     "text": [
      "End of this branch\n",
      "Feature max : CL1b value 2.0 with percentage : 100.0 %\n",
      "Feature max : CL1g value 1.0 with percentage : 100.0 %\n",
      "Feature max : CL3e value 2.0 with percentage : 100.0 %\n",
      "Feature max : CL3h value 2.0 with percentage : 100.0 %\n",
      "Feature max : CL4b value 2.0 with percentage : 100.0 %\n",
      "Feature max : CL4g value 0.0 with percentage : 100.0 %\n",
      "data_new shape : (3, 19)\n"
     ]
    }
   ],
   "source": [
    "most_frequent = frequency(data_62)\n",
    "percentages = perc(data_62, most_frequent)\n",
    "data_70 = makeTree(data_62, percentages, most_frequent)"
   ]
  },
  {
   "cell_type": "markdown",
   "id": "79ea3290-4e5a-4030-b637-cd8ddac1f0bf",
   "metadata": {},
   "source": [
    "##### Split and end : data_67 --> data_71 + data_72"
   ]
  },
  {
   "cell_type": "code",
   "execution_count": 49,
   "id": "e1b4b32e-66b1-4e81-acb1-bba76377dbcf",
   "metadata": {},
   "outputs": [
    {
     "name": "stdout",
     "output_type": "stream",
     "text": [
      "Branch can still split\n",
      "Feature max : CL1g value 0.0 with percentage : 50.0 %\n",
      "data_max shape : (1, 8)\n",
      "data_min shape : (1, 8)\n",
      "Clustering done on 'min' branch, sample is alone\n",
      "Clustering done on 'max' branch, sample is alone\n"
     ]
    }
   ],
   "source": [
    "most_frequent = frequency(data_67)\n",
    "percentages = perc(data_67, most_frequent)\n",
    "data_71, data_72 = makeTree(data_67, percentages, most_frequent)"
   ]
  },
  {
   "cell_type": "markdown",
   "id": "1057fd03-d880-499a-9c6b-513fdd8d05f6",
   "metadata": {},
   "source": [
    "###### Split : data_68 --> data_73 + data_74"
   ]
  },
  {
   "cell_type": "code",
   "execution_count": 50,
   "id": "bfb33de4-a6b2-4495-93e9-6ca68205647b",
   "metadata": {},
   "outputs": [
    {
     "name": "stdout",
     "output_type": "stream",
     "text": [
      "Branch can still split\n",
      "Feature max : CL4e value 0.0 with percentage : 92.85714285714286 %\n",
      "data_max shape : (13, 23)\n",
      "data_min shape : (1, 23)\n",
      "Clustering done on 'min' branch, sample is alone\n"
     ]
    }
   ],
   "source": [
    "most_frequent = frequency(data_68)\n",
    "percentages = perc(data_68, most_frequent)\n",
    "data_73, data_74 = makeTree(data_68, percentages, most_frequent)"
   ]
  },
  {
   "cell_type": "markdown",
   "id": "092debb9-9e49-4059-b183-6c482644b305",
   "metadata": {},
   "source": [
    "###### Drop : data_69 --> data_75"
   ]
  },
  {
   "cell_type": "code",
   "execution_count": 52,
   "id": "94dcc65a-d7c7-4640-80b0-00b43c5f2baa",
   "metadata": {},
   "outputs": [
    {
     "name": "stdout",
     "output_type": "stream",
     "text": [
      "End of this branch\n",
      "Feature max : CL1b value 2.0 with percentage : 100.0 %\n",
      "Feature max : CL1c value 0.0 with percentage : 100.0 %\n",
      "Feature max : CL1d value 0.0 with percentage : 100.0 %\n",
      "Feature max : CL1h value 1.0 with percentage : 100.0 %\n",
      "Feature max : CL3d value 2.0 with percentage : 100.0 %\n",
      "Feature max : CL4a value 0.0 with percentage : 100.0 %\n",
      "Feature max : CL4b value 2.0 with percentage : 100.0 %\n",
      "data_new shape : (2, 17)\n"
     ]
    }
   ],
   "source": [
    "most_frequent = frequency(data_69)\n",
    "percentages = perc(data_69, most_frequent)\n",
    "data_75 = makeTree(data_69, percentages, most_frequent)"
   ]
  },
  {
   "cell_type": "markdown",
   "id": "417441d6-429b-432d-ba2b-53c5730578b0",
   "metadata": {},
   "source": [
    "###### Split : data_70 --> data_76 + data_77"
   ]
  },
  {
   "cell_type": "code",
   "execution_count": 53,
   "id": "e12eee47-d1e3-43d8-b773-3ca057e02dc0",
   "metadata": {},
   "outputs": [
    {
     "name": "stdout",
     "output_type": "stream",
     "text": [
      "Branch can still split\n",
      "Feature max : CL1c value 0.0 with percentage : 66.66666666666667 %\n",
      "data_max shape : (2, 18)\n",
      "data_min shape : (1, 18)\n",
      "Clustering done on 'min' branch, sample is alone\n"
     ]
    }
   ],
   "source": [
    "most_frequent = frequency(data_70)\n",
    "percentages = perc(data_70, most_frequent)\n",
    "data_76, data_77 = makeTree(data_70, percentages, most_frequent)"
   ]
  },
  {
   "cell_type": "markdown",
   "id": "29856346-42a0-4c11-8fa3-e7469daa5d0d",
   "metadata": {},
   "source": [
    "## Split : data_73 --> data_78 + data_79"
   ]
  },
  {
   "cell_type": "code",
   "execution_count": 54,
   "id": "ef63d565-cf98-4ad8-9896-170ce61c39e4",
   "metadata": {},
   "outputs": [
    {
     "name": "stdout",
     "output_type": "stream",
     "text": [
      "Branch can still split\n",
      "Feature max : CL2h value 0.0 with percentage : 84.61538461538461 %\n",
      "data_max shape : (11, 22)\n",
      "data_min shape : (2, 22)\n"
     ]
    }
   ],
   "source": [
    "most_frequent = frequency(data_73)\n",
    "percentages = perc(data_73, most_frequent)\n",
    "data_78, data_79 = makeTree(data_73, percentages, most_frequent)"
   ]
  },
  {
   "cell_type": "markdown",
   "id": "ba95d921-5c2d-4389-b34b-d5befd1c9e52",
   "metadata": {},
   "source": [
    "## Split and end : data_75 --> data_80 + data_81"
   ]
  },
  {
   "cell_type": "code",
   "execution_count": 55,
   "id": "e60835b6-8444-4a8a-bcb5-79b7c095b670",
   "metadata": {},
   "outputs": [
    {
     "name": "stdout",
     "output_type": "stream",
     "text": [
      "Branch can still split\n",
      "Feature max : CL1e value 0.0 with percentage : 50.0 %\n",
      "data_max shape : (1, 16)\n",
      "data_min shape : (1, 16)\n",
      "Clustering done on 'min' branch, sample is alone\n",
      "Clustering done on 'max' branch, sample is alone\n"
     ]
    }
   ],
   "source": [
    "most_frequent = frequency(data_75)\n",
    "percentages = perc(data_75, most_frequent)\n",
    "data_80, data_81 = makeTree(data_75, percentages, most_frequent)"
   ]
  },
  {
   "cell_type": "markdown",
   "id": "c3b82b16-9dfb-4f0c-bfb7-164955ebf59f",
   "metadata": {},
   "source": [
    "## Drop : data_76 --> data_82"
   ]
  },
  {
   "cell_type": "code",
   "execution_count": 56,
   "id": "72cd65b5-b169-4dc0-89f6-a6db6e226492",
   "metadata": {},
   "outputs": [
    {
     "name": "stdout",
     "output_type": "stream",
     "text": [
      "End of this branch\n",
      "Feature max : CL1d value 1.0 with percentage : 100.0 %\n",
      "Feature max : CL1h value 1.0 with percentage : 100.0 %\n",
      "Feature max : CL2b value 1.0 with percentage : 100.0 %\n",
      "Feature max : CL2h value 1.0 with percentage : 100.0 %\n",
      "Feature max : CL5c value 0.0 with percentage : 100.0 %\n",
      "data_new shape : (2, 13)\n"
     ]
    }
   ],
   "source": [
    "most_frequent = frequency(data_76)\n",
    "percentages = perc(data_76, most_frequent)\n",
    "data_82 = makeTree(data_76, percentages, most_frequent)"
   ]
  },
  {
   "cell_type": "markdown",
   "id": "906935b8-dd1a-4206-9c04-05af9479faa6",
   "metadata": {},
   "source": [
    "### Drop : data_78 --> data_83"
   ]
  },
  {
   "cell_type": "code",
   "execution_count": 57,
   "id": "682fb647-5b42-4f90-bc2e-48a63624376d",
   "metadata": {},
   "outputs": [
    {
     "name": "stdout",
     "output_type": "stream",
     "text": [
      "End of this branch\n",
      "Feature max : CL4h value 0.0 with percentage : 100.0 %\n",
      "data_new shape : (11, 21)\n"
     ]
    }
   ],
   "source": [
    "most_frequent = frequency(data_78)\n",
    "percentages = perc(data_78, most_frequent)\n",
    "data_83 = makeTree(data_78, percentages, most_frequent)"
   ]
  },
  {
   "cell_type": "markdown",
   "id": "0def1fbe-939b-47cd-9380-bff7649ba2bd",
   "metadata": {},
   "source": [
    "### Drop : data_79 --> "
   ]
  },
  {
   "cell_type": "code",
   "execution_count": 58,
   "id": "0504a0fc-f378-4a2c-9b54-1c86845ac008",
   "metadata": {},
   "outputs": [
    {
     "name": "stdout",
     "output_type": "stream",
     "text": [
      "End of this branch\n",
      "Feature max : CL1b value 2.0 with percentage : 100.0 %\n",
      "Feature max : CL1c value 0.0 with percentage : 100.0 %\n",
      "Feature max : CL3c value 2.0 with percentage : 100.0 %\n",
      "Feature max : CL3d value 2.0 with percentage : 100.0 %\n",
      "Feature max : CL3e value 2.0 with percentage : 100.0 %\n",
      "Feature max : CL4a value 2.0 with percentage : 100.0 %\n",
      "Feature max : CL4b value 2.0 with percentage : 100.0 %\n",
      "data_new shape : (2, 15)\n"
     ]
    }
   ],
   "source": [
    "most_frequent = frequency(data_79)\n",
    "percentages = perc(data_79, most_frequent)\n",
    "data_84 = makeTree(data_79, percentages, most_frequent)"
   ]
  },
  {
   "cell_type": "markdown",
   "id": "463e8ff4-ca43-4c05-aab8-81032cf68ba4",
   "metadata": {},
   "source": [
    "### Split and end : data_82 --> data_85 + data_86"
   ]
  },
  {
   "cell_type": "code",
   "execution_count": 59,
   "id": "f5d69c43-f145-4f55-ac59-5a85bd0a8d2f",
   "metadata": {},
   "outputs": [
    {
     "name": "stdout",
     "output_type": "stream",
     "text": [
      "Branch can still split\n",
      "Feature max : CL1e value 1.0 with percentage : 50.0 %\n",
      "data_max shape : (1, 12)\n",
      "data_min shape : (1, 12)\n",
      "Clustering done on 'min' branch, sample is alone\n",
      "Clustering done on 'max' branch, sample is alone\n"
     ]
    }
   ],
   "source": [
    "most_frequent = frequency(data_82)\n",
    "percentages = perc(data_82, most_frequent)\n",
    "data_85, data_86 = makeTree(data_82, percentages, most_frequent)"
   ]
  },
  {
   "cell_type": "markdown",
   "id": "a137dfb0-45fd-4cde-9058-db4dc68d88b0",
   "metadata": {},
   "source": [
    "#### Split : data_83 --> data_87 + data_88"
   ]
  },
  {
   "cell_type": "code",
   "execution_count": 60,
   "id": "a829faae-e127-494a-abef-5462f2814df0",
   "metadata": {},
   "outputs": [
    {
     "name": "stdout",
     "output_type": "stream",
     "text": [
      "Branch can still split\n",
      "Feature max : CL3i value 2.0 with percentage : 90.9090909090909 %\n",
      "data_max shape : (10, 20)\n",
      "data_min shape : (1, 20)\n",
      "Clustering done on 'min' branch, sample is alone\n"
     ]
    }
   ],
   "source": [
    "most_frequent = frequency(data_83)\n",
    "percentages = perc(data_83, most_frequent)\n",
    "data_87, data_88 = makeTree(data_83, percentages, most_frequent)"
   ]
  },
  {
   "cell_type": "markdown",
   "id": "5f38747e-a281-44a1-b962-73f298890dfd",
   "metadata": {},
   "source": [
    "#### Split and end : data_84 --> data_89 + data_90"
   ]
  },
  {
   "cell_type": "code",
   "execution_count": 61,
   "id": "ae321f3b-f777-446f-8694-9095ec9a9555",
   "metadata": {},
   "outputs": [
    {
     "name": "stdout",
     "output_type": "stream",
     "text": [
      "Branch can still split\n",
      "Feature max : CL1d value 0.0 with percentage : 50.0 %\n",
      "data_max shape : (1, 14)\n",
      "data_min shape : (1, 14)\n",
      "Clustering done on 'min' branch, sample is alone\n",
      "Clustering done on 'max' branch, sample is alone\n"
     ]
    }
   ],
   "source": [
    "most_frequent = frequency(data_84)\n",
    "percentages = perc(data_84, most_frequent)\n",
    "data_89, data_90 = makeTree(data_84, percentages, most_frequent)"
   ]
  },
  {
   "cell_type": "markdown",
   "id": "9bddc696-367c-4e5f-a239-87355aee5abb",
   "metadata": {},
   "source": [
    "##### Split : data_87 --> data_91 + data_92"
   ]
  },
  {
   "cell_type": "code",
   "execution_count": 62,
   "id": "a0bb455c-34d6-4f2c-ae19-c358ba91ba13",
   "metadata": {},
   "outputs": [
    {
     "name": "stdout",
     "output_type": "stream",
     "text": [
      "Branch can still split\n",
      "Feature max : CL1h value 0.0 with percentage : 80.0 %\n",
      "data_max shape : (8, 19)\n",
      "data_min shape : (2, 19)\n"
     ]
    }
   ],
   "source": [
    "most_frequent = frequency(data_87)\n",
    "percentages = perc(data_87, most_frequent)\n",
    "data_91, data_92 = makeTree(data_87, percentages, most_frequent)"
   ]
  },
  {
   "cell_type": "markdown",
   "id": "07add6fa-9e44-4c72-8b1d-5ea9862d8e32",
   "metadata": {},
   "source": [
    "###### Split : data_91 --> data_93 + data_94"
   ]
  },
  {
   "cell_type": "code",
   "execution_count": 63,
   "id": "fb541f64-c5b4-49fb-8eb4-3ce6f0368592",
   "metadata": {},
   "outputs": [
    {
     "name": "stdout",
     "output_type": "stream",
     "text": [
      "Branch can still split\n",
      "Feature max : CL4a value 2.0 with percentage : 87.5 %\n",
      "data_max shape : (7, 18)\n",
      "data_min shape : (1, 18)\n",
      "Clustering done on 'min' branch, sample is alone\n"
     ]
    }
   ],
   "source": [
    "most_frequent = frequency(data_91)\n",
    "percentages = perc(data_91, most_frequent)\n",
    "data_93, data_94 = makeTree(data_91, percentages, most_frequent)"
   ]
  },
  {
   "cell_type": "markdown",
   "id": "e394a589-e8e4-44ff-97b2-04c347813bf3",
   "metadata": {},
   "source": [
    "###### Drop : data_92 --> data_95"
   ]
  },
  {
   "cell_type": "code",
   "execution_count": 64,
   "id": "bdd8c843-f84a-49f2-8ee7-f52bb925aa9b",
   "metadata": {},
   "outputs": [
    {
     "name": "stdout",
     "output_type": "stream",
     "text": [
      "End of this branch\n",
      "Feature max : CL1c value 0.0 with percentage : 100.0 %\n",
      "Feature max : CL1e value 0.0 with percentage : 100.0 %\n",
      "Feature max : CL2b value 0.0 with percentage : 100.0 %\n",
      "Feature max : CL3c value 2.0 with percentage : 100.0 %\n",
      "Feature max : CL3d value 2.0 with percentage : 100.0 %\n",
      "Feature max : CL3e value 2.0 with percentage : 100.0 %\n",
      "Feature max : CL3f value 2.0 with percentage : 100.0 %\n",
      "Feature max : CL3g value 2.0 with percentage : 100.0 %\n",
      "Feature max : CL3h value 2.0 with percentage : 100.0 %\n",
      "Feature max : CL4b value 2.0 with percentage : 100.0 %\n",
      "Feature max : CL4j value 1.0 with percentage : 100.0 %\n",
      "data_new shape : (2, 8)\n"
     ]
    }
   ],
   "source": [
    "most_frequent = frequency(data_92)\n",
    "percentages = perc(data_92, most_frequent)\n",
    "data_95 = makeTree(data_92, percentages, most_frequent)"
   ]
  },
  {
   "cell_type": "markdown",
   "id": "ea577537-0e91-4a7a-bc83-39b777e0f22d",
   "metadata": {},
   "source": [
    "## Split : data_93 --> data_96 + data_97"
   ]
  },
  {
   "cell_type": "code",
   "execution_count": 65,
   "id": "6821d9ac-2645-4da3-8092-25d026ac513e",
   "metadata": {},
   "outputs": [
    {
     "name": "stdout",
     "output_type": "stream",
     "text": [
      "Branch can still split\n",
      "Feature max : CL4d value 0.0 with percentage : 85.71428571428571 %\n",
      "data_max shape : (6, 17)\n",
      "data_min shape : (1, 17)\n",
      "Clustering done on 'min' branch, sample is alone\n"
     ]
    }
   ],
   "source": [
    "most_frequent = frequency(data_93)\n",
    "percentages = perc(data_93, most_frequent)\n",
    "data_96, data_97 = makeTree(data_93, percentages, most_frequent)"
   ]
  },
  {
   "cell_type": "markdown",
   "id": "0f127d56-a322-4ffb-8f46-91cdfdf904a0",
   "metadata": {},
   "source": [
    "## Split and end : data_95 --> data_98 + data_99"
   ]
  },
  {
   "cell_type": "code",
   "execution_count": 66,
   "id": "1c071796-3106-4d0c-8a1b-e68019ce0182",
   "metadata": {},
   "outputs": [
    {
     "name": "stdout",
     "output_type": "stream",
     "text": [
      "Branch can still split\n",
      "Feature max : CL1b value 0.0 with percentage : 50.0 %\n",
      "data_max shape : (1, 7)\n",
      "data_min shape : (1, 7)\n",
      "Clustering done on 'min' branch, sample is alone\n",
      "Clustering done on 'max' branch, sample is alone\n"
     ]
    }
   ],
   "source": [
    "most_frequent = frequency(data_95)\n",
    "percentages = perc(data_95, most_frequent)\n",
    "data_98, data_99 = makeTree(data_95, percentages, most_frequent)"
   ]
  },
  {
   "cell_type": "markdown",
   "id": "f66988b9-e396-4a15-9617-2839afa97dd3",
   "metadata": {},
   "source": [
    "### Split : data_96 --> data_100 + data_101"
   ]
  },
  {
   "cell_type": "code",
   "execution_count": 67,
   "id": "e9600341-9c19-4f1a-9ff0-e1677e3e5403",
   "metadata": {},
   "outputs": [
    {
     "name": "stdout",
     "output_type": "stream",
     "text": [
      "Branch can still split\n",
      "Feature max : CL1g value 0.0 with percentage : 83.33333333333333 %\n",
      "data_max shape : (5, 16)\n",
      "data_min shape : (1, 16)\n",
      "Clustering done on 'min' branch, sample is alone\n"
     ]
    }
   ],
   "source": [
    "most_frequent = frequency(data_96)\n",
    "percentages = perc(data_96, most_frequent)\n",
    "data_100, data_101 = makeTree(data_96, percentages, most_frequent)"
   ]
  },
  {
   "cell_type": "markdown",
   "id": "e1c35c12-3ea3-40b4-b30c-6e667d58b5fa",
   "metadata": {},
   "source": [
    "#### Drop : data_100 --> data_102"
   ]
  },
  {
   "cell_type": "code",
   "execution_count": 68,
   "id": "e5b310f4-6be2-4020-8ef1-5940340de128",
   "metadata": {},
   "outputs": [
    {
     "name": "stdout",
     "output_type": "stream",
     "text": [
      "End of this branch\n",
      "Feature max : CL4g value 0.0 with percentage : 100.0 %\n",
      "Feature max : CL5b value 0.0 with percentage : 100.0 %\n",
      "data_new shape : (5, 14)\n"
     ]
    }
   ],
   "source": [
    "most_frequent = frequency(data_100)\n",
    "percentages = perc(data_100, most_frequent)\n",
    "data_102 = makeTree(data_100, percentages, most_frequent)"
   ]
  },
  {
   "cell_type": "markdown",
   "id": "d5547bf5-7ad5-4cf6-baa8-ddcdf2f768a0",
   "metadata": {},
   "source": [
    "##### Split : data_102 --> data_103 + data_104"
   ]
  },
  {
   "cell_type": "code",
   "execution_count": 69,
   "id": "1e482d2a-ce7e-4ed4-bedd-0a33214bf7f9",
   "metadata": {},
   "outputs": [
    {
     "name": "stdout",
     "output_type": "stream",
     "text": [
      "Branch can still split\n",
      "Feature max : CL1c value 0.0 with percentage : 80.0 %\n",
      "data_max shape : (4, 13)\n",
      "data_min shape : (1, 13)\n",
      "Clustering done on 'min' branch, sample is alone\n"
     ]
    }
   ],
   "source": [
    "most_frequent = frequency(data_102)\n",
    "percentages = perc(data_102, most_frequent)\n",
    "data_103, data_104 = makeTree(data_102, percentages, most_frequent)"
   ]
  },
  {
   "cell_type": "markdown",
   "id": "0eee75c1-1458-4e89-95ea-588fffe70c29",
   "metadata": {},
   "source": [
    "###### Drop : data_103 --> data_105"
   ]
  },
  {
   "cell_type": "code",
   "execution_count": 70,
   "id": "170caacd-4d8f-4dab-9775-06eec07f2c1a",
   "metadata": {},
   "outputs": [
    {
     "name": "stdout",
     "output_type": "stream",
     "text": [
      "End of this branch\n",
      "Feature max : CL1d value 0.0 with percentage : 100.0 %\n",
      "data_new shape : (4, 12)\n"
     ]
    }
   ],
   "source": [
    "most_frequent = frequency(data_103)\n",
    "percentages = perc(data_103, most_frequent)\n",
    "data_105 = makeTree(data_103, percentages, most_frequent)"
   ]
  },
  {
   "cell_type": "markdown",
   "id": "7ba9c083-2ce0-44fd-a51d-02e0686035e0",
   "metadata": {},
   "source": [
    "## Split : data_105 --> data_106 + data_107"
   ]
  },
  {
   "cell_type": "code",
   "execution_count": 71,
   "id": "884e9d5c-1981-4e34-8bfe-03a4c692c564",
   "metadata": {},
   "outputs": [
    {
     "name": "stdout",
     "output_type": "stream",
     "text": [
      "Branch can still split\n",
      "Feature max : CL1b value 2.0 with percentage : 75.0 %\n",
      "data_max shape : (3, 11)\n",
      "data_min shape : (1, 11)\n",
      "Clustering done on 'min' branch, sample is alone\n"
     ]
    }
   ],
   "source": [
    "most_frequent = frequency(data_105)\n",
    "percentages = perc(data_105, most_frequent)\n",
    "data_106, data_107 = makeTree(data_105, percentages, most_frequent)"
   ]
  },
  {
   "cell_type": "markdown",
   "id": "10d8484d-e796-4556-9707-b1b0d57789e6",
   "metadata": {},
   "source": [
    "### Drop : data_106 --> data_108"
   ]
  },
  {
   "cell_type": "code",
   "execution_count": 72,
   "id": "d1993044-3fb4-4f29-aad6-893995ee7fbe",
   "metadata": {},
   "outputs": [
    {
     "name": "stdout",
     "output_type": "stream",
     "text": [
      "End of this branch\n",
      "Feature max : CL1e value 0.0 with percentage : 100.0 %\n",
      "data_new shape : (3, 10)\n"
     ]
    }
   ],
   "source": [
    "most_frequent = frequency(data_106)\n",
    "percentages = perc(data_106, most_frequent)\n",
    "data_108 = makeTree(data_106, percentages, most_frequent)"
   ]
  },
  {
   "cell_type": "markdown",
   "id": "0aac321b-692e-4132-8529-3ca460acd14b",
   "metadata": {},
   "source": [
    "#### Split : data_108 --> data_109 + data_110"
   ]
  },
  {
   "cell_type": "code",
   "execution_count": 73,
   "id": "7d81fb08-7044-4680-922c-6913c96d6f7a",
   "metadata": {},
   "outputs": [
    {
     "name": "stdout",
     "output_type": "stream",
     "text": [
      "Branch can still split\n",
      "Feature max : CL2b value 0.0 with percentage : 66.66666666666667 %\n",
      "data_max shape : (2, 9)\n",
      "data_min shape : (1, 9)\n",
      "Clustering done on 'min' branch, sample is alone\n"
     ]
    }
   ],
   "source": [
    "most_frequent = frequency(data_108)\n",
    "percentages = perc(data_108, most_frequent)\n",
    "data_109, data_110 = makeTree(data_108, percentages, most_frequent)"
   ]
  },
  {
   "cell_type": "markdown",
   "id": "00a927a1-913e-4166-bda0-2fef68dfbfaf",
   "metadata": {},
   "source": [
    "##### Drop : data_109 --> data_111"
   ]
  },
  {
   "cell_type": "code",
   "execution_count": 74,
   "id": "d22785e7-3ff2-4ccd-b76d-0c72f5bee5cd",
   "metadata": {},
   "outputs": [
    {
     "name": "stdout",
     "output_type": "stream",
     "text": [
      "End of this branch\n",
      "Feature max : CL3c value 2.0 with percentage : 100.0 %\n",
      "Feature max : CL3d value 2.0 with percentage : 100.0 %\n",
      "Feature max : CL3e value 2.0 with percentage : 100.0 %\n",
      "Feature max : CL3f value 2.0 with percentage : 100.0 %\n",
      "Feature max : CL3g value 2.0 with percentage : 100.0 %\n",
      "Feature max : CL3h value 2.0 with percentage : 100.0 %\n",
      "Feature max : CL4j value 0.0 with percentage : 100.0 %\n",
      "data_new shape : (2, 2)\n"
     ]
    }
   ],
   "source": [
    "most_frequent = frequency(data_109)\n",
    "percentages = perc(data_109, most_frequent)\n",
    "data_111 = makeTree(data_109, percentages, most_frequent)"
   ]
  },
  {
   "cell_type": "markdown",
   "id": "41d6f5c0-a6e5-4597-92c5-ec3094944159",
   "metadata": {},
   "source": [
    "###### Split and end  : data_111 --> data_112 + data_113"
   ]
  },
  {
   "cell_type": "code",
   "execution_count": 75,
   "id": "b5f313dc-7306-411d-8426-97b33d39f8f6",
   "metadata": {},
   "outputs": [
    {
     "name": "stdout",
     "output_type": "stream",
     "text": [
      "Branch can still split\n",
      "Feature max : CL4b value 1.0 with percentage : 50.0 %\n",
      "data_max shape : (1, 1)\n",
      "data_min shape : (1, 1)\n",
      "Clustering done on 'min' branch, sample is alone\n",
      "Clustering done on 'max' branch, sample is alone\n"
     ]
    }
   ],
   "source": [
    "most_frequent = frequency(data_111)\n",
    "percentages = perc(data_111, most_frequent)\n",
    "data_112, data_113 = makeTree(data_111, percentages, most_frequent)"
   ]
  }
 ],
 "metadata": {
  "kernelspec": {
   "display_name": "Python 3 (ipykernel)",
   "language": "python",
   "name": "python3"
  },
  "language_info": {
   "codemirror_mode": {
    "name": "ipython",
    "version": 3
   },
   "file_extension": ".py",
   "mimetype": "text/x-python",
   "name": "python",
   "nbconvert_exporter": "python",
   "pygments_lexer": "ipython3",
   "version": "3.10.4"
  },
  "toc-autonumbering": false
 },
 "nbformat": 4,
 "nbformat_minor": 5
}
